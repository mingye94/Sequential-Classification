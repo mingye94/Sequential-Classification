{
  "nbformat": 4,
  "nbformat_minor": 0,
  "metadata": {
    "colab": {
      "name": "Copy of Copy of Copy of 6864-hw2b.ipynb",
      "provenance": [],
      "collapsed_sections": [],
      "machine_shape": "hm"
    },
    "kernelspec": {
      "name": "python3",
      "display_name": "Python 3"
    },
    "accelerator": "GPU"
  },
  "cells": [
    {
      "cell_type": "code",
      "metadata": {
        "id": "FU7xWiY6TyWS"
      },
      "source": [
        "%%bash\n",
        "!(stat -t /usr/local/lib/*/dist-packages/google/colab > /dev/null 2>&1) && exit\n",
        "rm -rf 6864-hw2b"
      ],
      "execution_count": null,
      "outputs": []
    },
    {
      "cell_type": "code",
      "metadata": {
        "id": "5AyMA9rK1Rhf"
      },
      "source": [
        "import os\n",
        "os.makedirs(\"6864-hw2b\", exist_ok=True)\n",
        "import sys\n",
        "sys.path.append(\"/content/6864-hw2b\")"
      ],
      "execution_count": null,
      "outputs": []
    },
    {
      "cell_type": "code",
      "metadata": {
        "id": "BL1IfnRdPdsl",
        "colab": {
          "base_uri": "https://localhost:8080/",
          "height": 202
        },
        "outputId": "2c11fe33-a425-4d90-828c-411ec6f77470"
      },
      "source": [
        "!pip install sacrebleu"
      ],
      "execution_count": null,
      "outputs": [
        {
          "output_type": "stream",
          "text": [
            "Collecting sacrebleu\n",
            "\u001b[?25l  Downloading https://files.pythonhosted.org/packages/f5/58/5c6cc352ea6271125325950715cf8b59b77abe5e93cf29f6e60b491a31d9/sacrebleu-1.4.6-py3-none-any.whl (59kB)\n",
            "\u001b[K     |████████████████████████████████| 61kB 3.3MB/s \n",
            "\u001b[?25hCollecting mecab-python3\n",
            "\u001b[?25l  Downloading https://files.pythonhosted.org/packages/18/49/b55a839a77189042960bf96490640c44816073f917d489acbc5d79fa5cc3/mecab_python3-0.996.5-cp36-cp36m-manylinux2010_x86_64.whl (17.1MB)\n",
            "\u001b[K     |████████████████████████████████| 17.1MB 197kB/s \n",
            "\u001b[?25hRequirement already satisfied: typing in /usr/local/lib/python3.6/dist-packages (from sacrebleu) (3.6.6)\n",
            "Collecting portalocker\n",
            "  Downloading https://files.pythonhosted.org/packages/64/03/9abfb3374d67838daf24f1a388528714bec1debb1d13749f0abd7fb07cfb/portalocker-1.6.0-py2.py3-none-any.whl\n",
            "Installing collected packages: mecab-python3, portalocker, sacrebleu\n",
            "Successfully installed mecab-python3-0.996.5 portalocker-1.6.0 sacrebleu-1.4.6\n"
          ],
          "name": "stdout"
        }
      ]
    },
    {
      "cell_type": "markdown",
      "metadata": {
        "id": "5fOArV2r9Piz"
      },
      "source": [
        "# **Part 3: Sequence-to-Sequence Model**\n",
        "\n"
      ]
    },
    {
      "cell_type": "markdown",
      "metadata": {
        "id": "mA9JfWiK9eoL"
      },
      "source": [
        "In this lab, you will explore RNN-based sequence-to-sequence (seq2seq) models to perform machine translation (MT). We will use a Vietnamese-English dataset from IWSLT'15. The task is to translate a Vietnamese sentence into English.\n",
        "\n",
        "The lab is divided into two parts. The first part is to implement a vanilla seq2seq architecture without attention. In the second part you will implement your favorite attention mechanism (doesn't have to come from lecture) and add it to your vanilla seq2seq model. We will provide the training and testing scripts (trust me, the decoding/testing is actually the hardest part :P), so you will mainly just have to focus on implementing the models (I say *mainly* because you still might need to modify the testing script, depending on which attention method you use and how you implement it).\n"
      ]
    },
    {
      "cell_type": "markdown",
      "metadata": {
        "id": "zDJjmvZfHV_l"
      },
      "source": [
        "## **Section 1: Data Preprocessing**\n",
        "\n",
        "No need to write any code in this section. But you are encouraged to test with this part to understand the data.\n",
        "\n",
        "First, we download the dataset and place it under current directory."
      ]
    },
    {
      "cell_type": "code",
      "metadata": {
        "id": "02RioHPryvOz",
        "colab": {
          "base_uri": "https://localhost:8080/",
          "height": 118
        },
        "outputId": "09de6698-1884-40f3-f4fb-a2212ee2ea96"
      },
      "source": [
        "# Download data\n",
        "!wget -nv -O /content/6864-hw2b/train.en https://nlp.stanford.edu/projects/nmt/data/iwslt15.en-vi/train.en\n",
        "!wget -nv -O /content/6864-hw2b/train.vi https://nlp.stanford.edu/projects/nmt/data/iwslt15.en-vi/train.vi\n",
        "!wget -nv -O /content/6864-hw2b/tst2013.en https://nlp.stanford.edu/projects/nmt/data/iwslt15.en-vi/tst2013.en\n",
        "!wget -nv -O /content/6864-hw2b/tst2013.vi https://nlp.stanford.edu/projects/nmt/data/iwslt15.en-vi/tst2013.vi\n",
        "!wget -nv -O /content/6864-hw2b/vocab.en https://nlp.stanford.edu/projects/nmt/data/iwslt15.en-vi/vocab.en\n",
        "!wget -nv -O /content/6864-hw2b/vocab.vi https://nlp.stanford.edu/projects/nmt/data/iwslt15.en-vi/vocab.vi"
      ],
      "execution_count": null,
      "outputs": [
        {
          "output_type": "stream",
          "text": [
            "2020-04-01 02:45:25 URL:https://nlp.stanford.edu/projects/nmt/data/iwslt15.en-vi/train.en [13603614/13603614] -> \"/content/6864-hw2b/train.en\" [1]\n",
            "2020-04-01 02:45:26 URL:https://nlp.stanford.edu/projects/nmt/data/iwslt15.en-vi/train.vi [18074646/18074646] -> \"/content/6864-hw2b/train.vi\" [1]\n",
            "2020-04-01 02:45:27 URL:https://nlp.stanford.edu/projects/nmt/data/iwslt15.en-vi/tst2013.en [132264/132264] -> \"/content/6864-hw2b/tst2013.en\" [1]\n",
            "2020-04-01 02:45:28 URL:https://nlp.stanford.edu/projects/nmt/data/iwslt15.en-vi/tst2013.vi [183855/183855] -> \"/content/6864-hw2b/tst2013.vi\" [1]\n",
            "2020-04-01 02:45:29 URL:https://nlp.stanford.edu/projects/nmt/data/iwslt15.en-vi/vocab.en [139741/139741] -> \"/content/6864-hw2b/vocab.en\" [1]\n",
            "2020-04-01 02:45:30 URL:https://nlp.stanford.edu/projects/nmt/data/iwslt15.en-vi/vocab.vi [46767/46767] -> \"/content/6864-hw2b/vocab.vi\" [1]\n"
          ],
          "name": "stdout"
        }
      ]
    },
    {
      "cell_type": "markdown",
      "metadata": {
        "id": "ogFESHAf-6MY"
      },
      "source": [
        "Next, we do some simple data preprocessing and show some data statistics."
      ]
    },
    {
      "cell_type": "code",
      "metadata": {
        "id": "OfkQGqV30hgC",
        "colab": {
          "base_uri": "https://localhost:8080/",
          "height": 450
        },
        "outputId": "9e2760ef-4ae8-44fd-d433-0a715047174a"
      },
      "source": [
        "import numpy as np\n",
        "import matplotlib.pyplot as plt\n",
        "\n",
        "\n",
        "def read_sentence_file(filename):\n",
        "  sentences_list = []\n",
        "  with open(filename, \"r\") as f:\n",
        "    for line in f:\n",
        "      sentences_list.append(line.strip().split())\n",
        "  return sentences_list\n",
        "\n",
        "def read_vocab_file(filename):\n",
        "  with open(filename, \"r\") as f:\n",
        "    return [line.strip() for line in f]\n",
        "\n",
        "\n",
        "src_vocab_set = read_vocab_file(os.path.join(\"/content/6864-hw2b\", \"vocab.vi\"))\n",
        "trg_vocab_set = read_vocab_file(os.path.join(\"/content/6864-hw2b\", \"vocab.en\"))\n",
        "\n",
        "train_src_sentences_list = read_sentence_file(os.path.join(\"/content/6864-hw2b\",\n",
        "                                                           \"train.vi\"))\n",
        "train_trg_sentences_list = read_sentence_file(os.path.join(\"/content/6864-hw2b\",\n",
        "                                                           \"train.en\"))\n",
        "assert len(train_src_sentences_list) == len(train_trg_sentences_list)\n",
        "\n",
        "test_src_sentences_list = read_sentence_file(os.path.join(\"/content/6864-hw2b\",\n",
        "                                                          \"tst2013.vi\"))\n",
        "test_trg_sentences_list = read_sentence_file(os.path.join(\"/content/6864-hw2b\",\n",
        "                                                          \"tst2013.en\"))\n",
        "assert len(test_src_sentences_list) == len(test_trg_sentences_list)\n",
        "\n",
        "\n",
        "MAX_SENT_LENGTH = 48\n",
        "MAX_SENT_LENGTH_PLUS_SOS_EOS = 50\n",
        "max_sent_length_define = 20\n",
        "min_sent_length_define = 10\n",
        "\n",
        "# We only keep sentences that do not exceed 48 words, so that later when we\n",
        "# add <s> and </s> to a sentence it still won't exceed 50 words.\n",
        "def filter_data(src_sentences_list, trg_sentences_list, max_len, min_len):\n",
        "  new_src_sentences_list, new_trg_sentences_list = [], []\n",
        "  for src_sent, trg_sent in zip(src_sentences_list, trg_sentences_list):\n",
        "    if (len(src_sent) <= max_len and len(trg_sent) <= max_len\n",
        "        and len(src_sent) > min_len and len(trg_sent)) > min_len:\n",
        "      new_src_sentences_list.append(src_sent)\n",
        "      new_trg_sentences_list.append(trg_sent)\n",
        "  return new_src_sentences_list, new_trg_sentences_list\n",
        "\n",
        "max_len = max_sent_length_define\n",
        "min_len = min_sent_length_define\n",
        "train_src_sentences_list, train_trg_sentences_list = filter_data(\n",
        "    train_src_sentences_list, train_trg_sentences_list, max_len, min_len)\n",
        "test_src_sentences_list, test_trg_sentences_list = filter_data(\n",
        "    test_src_sentences_list, test_trg_sentences_list, max_len, min_len)\n",
        "\n",
        "# We take 10% of training data as validation set.\n",
        "num_val = int(len(train_src_sentences_list) * 0.1)\n",
        "val_src_sentences_list = train_src_sentences_list[:num_val]\n",
        "val_trg_sentences_list = train_trg_sentences_list[:num_val]\n",
        "train_src_sentences_list = train_src_sentences_list[num_val:]\n",
        "train_trg_sentences_list = train_trg_sentences_list[num_val:]\n",
        "\n",
        "# Show some data stats\n",
        "print(\"Number of training (src, trg) sentence pairs: %d\" %\n",
        "      len(train_src_sentences_list))\n",
        "print(\"Number of validation (src, trg) sentence pairs: %d\" %\n",
        "      len(val_src_sentences_list))\n",
        "print(\"Number of testing (src, trg) sentence pairs: %d\" %\n",
        "      len(test_src_sentences_list))\n",
        "src_vocab_set = ['<pad>'] + src_vocab_set\n",
        "trg_vocab_set = ['<pad>'] + trg_vocab_set\n",
        "print(\"Size of en vocab set (including '<pad>', '<unk>', '<s>', '</s>'): %d\" %\n",
        "      len(src_vocab_set))\n",
        "print(\"Size of vi vocab set (including '<pad>', '<unk>', '<s>', '</s>'): %d\" %\n",
        "      len(trg_vocab_set))\n",
        "\n",
        "length = [len(sent) for sent in train_src_sentences_list]\n",
        "print('Training sentence avg. length: %d ' % np.mean(length))\n",
        "print('Training sentence length at 95-percentile: %d' %\n",
        "      np.percentile(length, 95))\n",
        "print('Training sentence length distribution '\n",
        "      '(x-axis is length range and y-axis is count):\\n')\n",
        "plt.hist(length, bins=5)\n",
        "plt.show()\n",
        "\n",
        "print('Example Vietnamese input: ' + str(train_src_sentences_list[0]))\n",
        "print('Its target English output: ' + str(train_trg_sentences_list[0]))"
      ],
      "execution_count": null,
      "outputs": [
        {
          "output_type": "stream",
          "text": [
            "Number of training (src, trg) sentence pairs: 28794\n",
            "Number of validation (src, trg) sentence pairs: 3199\n",
            "Number of testing (src, trg) sentence pairs: 250\n",
            "Size of en vocab set (including '<pad>', '<unk>', '<s>', '</s>'): 7710\n",
            "Size of vi vocab set (including '<pad>', '<unk>', '<s>', '</s>'): 17192\n",
            "Training sentence avg. length: 16 \n",
            "Training sentence length at 95-percentile: 20\n",
            "Training sentence length distribution (x-axis is length range and y-axis is count):\n",
            "\n"
          ],
          "name": "stdout"
        },
        {
          "output_type": "display_data",
          "data": {
            "image/png": "[encoded data removed]",
            "text/plain": [
              "<Figure size 432x288 with 1 Axes>"
            ]
          },
          "metadata": {
            "tags": []
          }
        },
        {
          "output_type": "stream",
          "text": [
            "Example Vietnamese input: ['ZK', ':', 'Đây', 'là', 'Steve', '.', 'Được', 'rồi', 'Steve', ',', 'bây', 'giờ', 'đi', 'theo', 'tôi', 'nhé', '.']\n",
            "Its target English output: ['ZK', ':', 'It', '&apos;s', 'Steve', '.', 'All', 'right', 'Steve', ',', 'now', ',', 'follow', 'me', '.']\n"
          ],
          "name": "stdout"
        }
      ]
    },
    {
      "cell_type": "markdown",
      "metadata": {
        "id": "J2x0lhVm_Yxx"
      },
      "source": [
        "Here we define a class called `MTDataset`. It is built on top of the efficient data loader API provided in PyTorch. See Section 5 for explanation."
      ]
    },
    {
      "cell_type": "code",
      "metadata": {
        "id": "muwDBzXM5ijT"
      },
      "source": [
        "import torch\n",
        "from torch.utils import data\n",
        "\n",
        "device = \"cuda\" if torch.cuda.is_available() else \"cpu\"\n",
        "assert device == \"cuda\"   # use gpu whenever you can!\n",
        "\n",
        "seed = 42\n",
        "np.random.seed(seed)\n",
        "torch.manual_seed(seed)\n",
        "torch.cuda.manual_seed(seed)\n",
        "\n",
        "\n",
        "# These IDs are reserved.\n",
        "PAD_INDEX = 0\n",
        "UNK_INDEX = 1\n",
        "SOS_INDEX = 2\n",
        "EOS_INDEX = 3\n",
        "\n",
        "\n",
        "class MTDataset(data.Dataset):\n",
        "  def __init__(self, src_sentences, src_vocabs, trg_sentences, trg_vocabs,\n",
        "               sampling=1.):\n",
        "    self.src_sentences = src_sentences[:int(len(src_sentences) * sampling)]\n",
        "    self.trg_sentences = trg_sentences[:int(len(src_sentences) * sampling)]\n",
        "\n",
        "    self.max_src_seq_length = MAX_SENT_LENGTH_PLUS_SOS_EOS\n",
        "    self.max_trg_seq_length = MAX_SENT_LENGTH_PLUS_SOS_EOS\n",
        "\n",
        "    self.src_vocabs = src_vocabs\n",
        "    self.trg_vocabs = trg_vocabs\n",
        "\n",
        "    self.src_v2id = {v : i for i, v in enumerate(src_vocabs)}\n",
        "    self.src_id2v = {val : key for key, val in self.src_v2id.items()}\n",
        "    self.trg_v2id = {v : i for i, v in enumerate(trg_vocabs)}\n",
        "    self.trg_id2v = {val : key for key, val in self.trg_v2id.items()}\n",
        "\n",
        "  def __len__(self):\n",
        "    return len(self.src_sentences)\n",
        "\n",
        "  def __getitem__(self, index):\n",
        "    src_sent = self.src_sentences[index]\n",
        "    src_len = len(src_sent) + 2   # add <s> and </s> to each sentence\n",
        "    src_id = []\n",
        "    for w in src_sent:\n",
        "      if w not in self.src_vocabs:\n",
        "        w = '<unk>'\n",
        "      src_id.append(self.src_v2id[w])\n",
        "    src_id = ([SOS_INDEX] + src_id + [EOS_INDEX] + [PAD_INDEX] *\n",
        "              (self.max_src_seq_length - src_len))\n",
        "\n",
        "    trg_sent = self.trg_sentences[index]\n",
        "    trg_len = len(trg_sent) + 2\n",
        "    trg_id = []\n",
        "    for w in trg_sent:\n",
        "      if w not in self.trg_vocabs:\n",
        "        w = '<unk>'\n",
        "      trg_id.append(self.trg_v2id[w])\n",
        "    trg_id = ([SOS_INDEX] + trg_id + [EOS_INDEX] + [PAD_INDEX] *\n",
        "              (self.max_trg_seq_length - trg_len))\n",
        "\n",
        "    return torch.tensor(src_id), src_len, torch.tensor(trg_id), trg_len"
      ],
      "execution_count": null,
      "outputs": []
    },
    {
      "cell_type": "markdown",
      "metadata": {
        "id": "kb5gQEp7oVdi"
      },
      "source": [
        "## **Section 2: Encoder**\n",
        "\n",
        "Seq2seq consists of an Encoder RNN and a decoder RNN. In a vanilla seq2seq model where there is no attention mechanism between encoder and decoder, the encoder aims to compress the information contained in the entire input sequence into a single vector and pass it to decoder.\n",
        "\n",
        "We start with implementing the encoder, which is just a simple RNN. We use a GRU here, but feel free to try other cell types."
      ]
    },
    {
      "cell_type": "code",
      "metadata": {
        "id": "dnwVGDVkoPt0"
      },
      "source": [
        "import torch.nn as nn\n",
        "import torch.nn.functional as F\n",
        "import random\n",
        "from torch.nn.utils.rnn import pack_padded_sequence, pad_packed_sequence\n",
        "\n",
        "class Encoder(nn.Module):\n",
        "  def __init__(self, input_size, hidden_size, num_layers = 1, bidirection = False, dropout=0.):\n",
        "    \"\"\"\n",
        "    Inputs: \n",
        "      - `input_size`: an int representing the RNN input size.\n",
        "      - `hidden_size`: an int representing the RNN hidden size.\n",
        "      - `dropout`: a float representing the dropout rate during training. Note\n",
        "          that for 1-layer RNN this has no effect since dropout only applies to\n",
        "          outputs of intermediate layers.\n",
        "    \"\"\"\n",
        "    \n",
        "    super(Encoder, self).__init__()\n",
        "    # Note: for lab writeup question #4, you can directly change `num_layers`\n",
        "    # and `bidirectional` here to enable deep/bidirectional RNNs. However, you\n",
        "    # will also need to modify some parts in the rest of the code accordingly.\n",
        "    \n",
        "    self.bidirection = bidirection\n",
        "    self.gru = nn.GRU(input_size, hidden_size, num_layers, batch_first=True,\n",
        "                      dropout=dropout, bidirectional=self.bidirection)\n",
        "    self.bi_linear = nn.Linear(2*hidden_size, hidden_size)\n",
        "    self.drop = nn.Dropout(dropout)\n",
        "    \n",
        "  def forward(self, inputs, lengths):\n",
        "    \"\"\"\n",
        "    Inputs:\n",
        "      - `inputs`: a 3d-tensor of shape (batch_size, max_seq_length, embed_size)\n",
        "          representing a batch of padded embedded word vectors of source\n",
        "          sentences.\n",
        "      - `lengths`: a 1d-tensor of shape (batch_size,) representing the sequence\n",
        "          lengths of `inputs`.\n",
        "\n",
        "    Returns:\n",
        "      - `outputs`: a 3d-tensor of shape\n",
        "        (batch_size, max_seq_length, hidden_size).\n",
        "      - `finals`: a 3d-tensor of shape (num_layers, batch_size, hidden_size).\n",
        "      Hint: `outputs` and `finals` are both standard GRU outputs. Check:\n",
        "      https://pytorch.org/docs/stable/nn.html#gru\n",
        "    \"\"\"\n",
        "    pack_pad = pack_padded_sequence(self.drop(inputs), lengths, batch_first=True, enforce_sorted=False)\n",
        "    ### Your code here!\n",
        "    outputs, finals = self.gru(pack_pad)\n",
        "    outputs, _ = pad_packed_sequence(outputs, batch_first=True, total_length = inputs.size(1))\n",
        "    \n",
        "    if self.bidirection:\n",
        "        forward = finals[0:list(finals.size())[0]:2]\n",
        "        backward = finals[1:list(finals.size())[0]:2]\n",
        "        finals = torch.cat([forward, backward], dim=2)\n",
        "        finals = self.bi_linear(finals)\n",
        "        outputs = self.bi_linear(outputs)\n",
        "        \n",
        "    return outputs, finals"
      ],
      "execution_count": null,
      "outputs": []
    },
    {
      "cell_type": "markdown",
      "metadata": {
        "id": "8Oz3Kc4QKyEP"
      },
      "source": [
        "## **Section 3: Decoder**\n",
        "\n",
        "Here you will implement a decoder RNN that uses encoder's last hidden state to initialize its initial hidden state."
      ]
    },
    {
      "cell_type": "code",
      "metadata": {
        "id": "JYT0BlfYUJXj"
      },
      "source": [
        "class Decoder(nn.Module):\n",
        "  \"\"\"An RNN decoder without attention.\"\"\"\n",
        "\n",
        "  def __init__(self, input_size, hidden_size, num_layers = 1, feed_ratio = 0.5, dropout=0.):\n",
        "    \"\"\"\n",
        "      Inputs:\n",
        "        - `input_size`, `hidden_size`, and `dropout` the same as in Encoder.\n",
        "    \"\"\"\n",
        "    super(Decoder, self).__init__()\n",
        "\n",
        "    ### Your code here!\n",
        "    self.hidden_size = hidden_size\n",
        "    self.gru = nn.GRU(hidden_size, hidden_size, num_layers, batch_first=True, dropout=dropout)\n",
        "    self.input_hidden = nn.Linear(input_size, hidden_size)\n",
        "    self.feed_ratio = feed_ratio\n",
        "    \n",
        "  def forward(self, inputs, encoder_finals, hidden=None, max_len=None):\n",
        "    \"\"\"Unroll the decoder one step at a time.\n",
        "\n",
        "    Inputs:\n",
        "      - `inputs`: a 3d-tensor of shape (batch_size, max_seq_length, embed_size)\n",
        "          representing a batch of padded embedded word vectors of target\n",
        "          sentences (for teacher-forcing during training).\n",
        "      - `encoder_finals`: a 3d-tensor of shape\n",
        "          (num_enc_layers, batch_size, hidden_size) representing the final\n",
        "          encoder hidden states used to initialize the initial decoder hidden\n",
        "          states.\n",
        "      - `hidden`: a 3d-tensor of shape (1, batch_size, hidden_size) representing\n",
        "          the value to be used to initialize the initial decoder hidden states.\n",
        "          If None, then use `encoder_finals`.\n",
        "      - `max_len`: an int representing the maximum decoding length.\n",
        "\n",
        "    Returns:\n",
        "      - `outputs`: a 3d-tensor of shape\n",
        "          (batch_size, max_seq_length, hidden_size) representing the raw\n",
        "          decoder outputs (before converting to a `trg_vocab_size`-dim vector).\n",
        "          We will convert it later in a `Generator` below.\n",
        "      - `hidden`: a 3d-tensor of shape (1, batch_size, hidden_size)\n",
        "          representing the last decoder hidden state.\n",
        "    \"\"\"\n",
        "\n",
        "    # The maximum number of steps to unroll the RNN.\n",
        "    if max_len is None:\n",
        "      max_len = inputs.size(1)\n",
        "\n",
        "    # Initialize decoder hidden state.\n",
        "    if hidden is None:\n",
        "      hidden = self.init_hidden(encoder_finals)\n",
        "\n",
        "    #outputs = None\n",
        "    ### Your code here!\n",
        "    \n",
        "    outputs = []\n",
        "    for i in range(max_len):\n",
        "        if i == 0:\n",
        "            embed_input = self.input_hidden(F.relu(inputs[:,i,:].unsqueeze(1)))\n",
        "            output, hidden = self.gru(embed_input, hidden)\n",
        "        else:\n",
        "            feed_target = True if random.random() < self.feed_ratio else False\n",
        "            if feed_target:\n",
        "                embed_input = self.input_hidden(F.relu(inputs[:,i,:].unsqueeze(1)))\n",
        "            else:\n",
        "                embed_input = output\n",
        "            \n",
        "            output, hidden = self.gru(embed_input, hidden)\n",
        "            \n",
        "        outputs.append(output)\n",
        "    \n",
        "    outputs = torch.cat(outputs, dim = 1)\n",
        "    \n",
        "    return hidden, outputs\n",
        "\n",
        "  def init_hidden(self, encoder_finals):\n",
        "    \"\"\"Use encoder final hidden state to initialize decoder's first hidden\n",
        "    state.\"\"\"\n",
        "    ### Your code here!\n",
        "    if encoder_finals != None:\n",
        "        return torch.tanh(encoder_finals)\n",
        "    else:\n",
        "        return None"
      ],
      "execution_count": null,
      "outputs": []
    },
    {
      "cell_type": "markdown",
      "metadata": {
        "id": "AH0VdHE2_x1k"
      },
      "source": [
        "Define the high level encoder-decoder class to wrap up sub-models, including encoder, decoder, generator, and src/trg embeddings."
      ]
    },
    {
      "cell_type": "code",
      "metadata": {
        "id": "nNBaAYB_oHxG"
      },
      "source": [
        "class EncoderDecoder(nn.Module):\n",
        "  \"\"\"A standard Encoder-Decoder architecture without attention.\n",
        "  \"\"\"\n",
        "  def __init__(self, encoder, decoder, src_embed, trg_embed, generator):\n",
        "    \"\"\"\n",
        "    Inputs:\n",
        "      - `encoder`: an `Encoder` object.\n",
        "      - `decoder`: an `Decoder` object.\n",
        "      - `src_embed`: an nn.Embedding object representing the lookup table for\n",
        "          input (source) sentences.\n",
        "      - `trg_embed`: an nn.Embedding object representing the lookup table for\n",
        "          output (target) sentences.\n",
        "      - `generator`: a `Generator` object. Essentially a linear mapping. See\n",
        "          the next code cell.\n",
        "    \"\"\"\n",
        "    super(EncoderDecoder, self).__init__()\n",
        "\n",
        "    self.encoder = encoder\n",
        "    self.decoder = decoder\n",
        "    self.src_embed = src_embed\n",
        "    self.trg_embed = trg_embed\n",
        "    self.generator = generator\n",
        "\n",
        "  def forward(self, src_ids, trg_ids, src_lengths):\n",
        "    \"\"\"Take in and process masked source and target sequences.\n",
        "\n",
        "    Inputs:\n",
        "      `src_ids`: a 2d-tensor of shape (batch_size, max_seq_length) representing\n",
        "        a batch of source sentences of word ids.\n",
        "      `trg_ids`: a 2d-tensor of shape (batch_size, max_seq_length) representing\n",
        "        a batch of target sentences of word ids.\n",
        "      `src_lengths`: a 1d-tensor of shape (batch_size,) representing the\n",
        "        sequence length of `src_ids`.\n",
        "\n",
        "    Returns the decoder outputs, see the above cell.\n",
        "    \"\"\"\n",
        "    encoder_hiddens, encoder_finals = self.encode(src_ids, src_lengths)\n",
        "    del encoder_hiddens   # unused\n",
        "    return self.decode(encoder_finals, trg_ids[:, :-1])\n",
        "\n",
        "  def encode(self, src_ids, src_lengths):\n",
        "    return self.encoder(self.src_embed(src_ids), src_lengths)\n",
        "    \n",
        "  def decode(self, encoder_finals, trg_ids, decoder_hidden=None):\n",
        "    return self.decoder(self.trg_embed(trg_ids), encoder_finals, decoder_hidden)"
      ],
      "execution_count": null,
      "outputs": []
    },
    {
      "cell_type": "markdown",
      "metadata": {
        "id": "M06QOTbCALGy"
      },
      "source": [
        "It simply projects the pre-output layer (x in the forward function below) to obtain the output layer, so that the final dimension is the target vocabulary size."
      ]
    },
    {
      "cell_type": "code",
      "metadata": {
        "id": "LaHdVcF1KPmd"
      },
      "source": [
        "class Generator(nn.Module):\n",
        "  \"\"\"Define standard linear + softmax generation step.\"\"\"\n",
        "  def __init__(self, hidden_size, vocab_size):\n",
        "    super(Generator, self).__init__()\n",
        "    self.proj = nn.Linear(hidden_size, vocab_size, bias=False)\n",
        "\n",
        "  def forward(self, x):\n",
        "    return F.log_softmax(self.proj(x), dim=-1)"
      ],
      "execution_count": null,
      "outputs": []
    },
    {
      "cell_type": "markdown",
      "metadata": {
        "id": "qf8Oc9a_ocC_"
      },
      "source": [
        "## **Section 4: Attention-Based Decoder**\n",
        "\n",
        "Now it's time to add some attention to the decoder. You can implement any attention mechanism you want.\n"
      ]
    },
    {
      "cell_type": "code",
      "metadata": {
        "id": "iZq2NImAoY1C"
      },
      "source": [
        "class BahAttention(nn.Module):\n",
        "    def __init__(self, hidden_size):\n",
        "        super().__init__()\n",
        "        \n",
        "        self.hidden_size = hidden_size\n",
        "        self.q_weight = nn.Linear(hidden_size, hidden_size, bias=False)\n",
        "        self.k_weight = nn.Linear(hidden_size, hidden_size, bias=False)\n",
        "        self.va = nn.Linear(hidden_size, 1, bias=False)\n",
        "        self.att_weight = None\n",
        "        \n",
        "    def forward(self, q, k, v, mask):\n",
        "        #q = q.unsqueeze(1)\n",
        "        #q_linear = nn.Linear(q.size(2), self.hidden_size).cuda()\n",
        "        #k_linear = nn.Linear(k.size(2), self.hidden_size).cuda()\n",
        "        #print(list(q_p.size()))\n",
        "        #k_p = self.k_weight(k)\n",
        "        #print(list(k.size()))\n",
        "        combine = torch.tanh(self.q_weight(q) + self.k_weight(k))\n",
        "        energy = self.va(combine).squeeze(2).unsqueeze(1)\n",
        "        energy.data.masked_fill_(mask == False, -float('inf'))\n",
        "        att_weight = F.softmax(energy, dim=-1)\n",
        "        self.att_weight = att_weight\n",
        "        context = att_weight.bmm(v)\n",
        "        return context\n",
        "\n",
        "'''\n",
        "AttentionDecoder\n",
        "'''\n",
        "\n",
        "class AttentionDecoder(nn.Module):\n",
        "  \"\"\"An attention-based RNN decoder.\"\"\"\n",
        "\n",
        "  def __init__(self, input_size, hidden_size, attention, num_layers, feed_ratio = 0.5, dropout=0.):\n",
        "    \"\"\"\n",
        "      Inputs:\n",
        "        - `input_size`, `hidden_size`, and `dropout` the same as in Encoder.\n",
        "        - `attention`: this is your self-defined Attention object. You can\n",
        "            either define an individual class for your Attention and pass it\n",
        "            here or leave `attention` as None and just implement everything\n",
        "            here.\n",
        "    \"\"\"\n",
        "    super(AttentionDecoder, self).__init__()\n",
        "\n",
        "    ### Your code here!\n",
        "    self.hidden_size = hidden_size\n",
        "    self.input_size = input_size\n",
        "    self.dropout = dropout\n",
        "    self.feed_ratio = feed_ratio\n",
        "\n",
        "    self.attention = attention\n",
        "    self.input_hidden = nn.Linear(input_size, hidden_size)\n",
        "    self.lstm = nn.LSTM(hidden_size*2, hidden_size, num_layers, batch_first=True, dropout=dropout)\n",
        "    self.drop_layer = nn.Dropout(dropout)\n",
        "    self.output1 = nn.Linear(hidden_size, hidden_size)\n",
        "    self.output2 = nn.Linear(hidden_size*3, hidden_size)\n",
        "\n",
        "    \n",
        "  def forward(self, inputs, encoder_hiddens, encoder_finals,  src_mask,\n",
        "              hidden=None, trg_mask = None, max_len=None):\n",
        "    \"\"\"Unroll the decoder one step at a time.\n",
        "    \n",
        "    Inputs:\n",
        "      - `inputs`: a 3d-tensor of shape (batch_size, max_seq_length, embed_size)\n",
        "          representing a batch of padded embedded word vectors of target\n",
        "          sentences (for teacher-forcing during training).\n",
        "      - `encoder_hiddens`: a 3d-tensor of shape\n",
        "          (batch_size, max_seq_length, hidden_size) representing the encoder\n",
        "          outputs for each decoding step to attend to. \n",
        "      - `encoder_finals`: a 3d-tensor of shape\n",
        "          (num_enc_layers, batch_size, hidden_size) representing the final\n",
        "          encoder hidden states used to initialize the initial decoder hidden\n",
        "          states.\n",
        "      - `src_mask`: a 3d-tensor of shape (batch_size, 1, max_seq_length)\n",
        "          representing the mask for source sentences.\n",
        "      - `trg_mask`: a 3d-tensor of shape (batch_size, 1, max_seq_length)\n",
        "          representing the mask for target sentences.\n",
        "      - `hidden`: a 3d-tensor of shape (1, batch_size, hidden_size) representing\n",
        "          the value to be used to initialize the initial decoder hidden states.\n",
        "          If None, then use `encoder_finals`.\n",
        "      - `max_len`: an int representing the maximum decoding length.\n",
        "\n",
        "    Returns:\n",
        "      - `outputs`: (same as in Decoder) a 3d-tensor of shape\n",
        "          (batch_size, max_seq_length, hidden_size) representing the raw\n",
        "          decoder outputs (before converting to a `trg_vocab_size`-dim vector).\n",
        "      - `hidden`: a 3d-tensor of shape (1, batch_size, hidden_size)\n",
        "          representing the last decoder hidden state.\n",
        "    \"\"\"\n",
        "\n",
        "    # The maximum number of steps to unroll the RNN.\n",
        "    if max_len is None:\n",
        "      max_len = inputs.size(1)\n",
        "\n",
        "    if hidden is None:\n",
        "      #print('encoder final')\n",
        "      #print(encoder_finals.size())\n",
        "      hidden = self.init_hidden(encoder_finals)\n",
        "\n",
        "    #outputs = None\n",
        "    ### Your code here!\n",
        "    \n",
        "    #print('input')\n",
        "    #print(inputs.size())\n",
        "    #print(self.input_size)\n",
        "    #print('max_len: ' + str(max_len))\n",
        "\n",
        "    outputs = []\n",
        "    for i in range(max_len):\n",
        "        #print(hidden[-1].size())\n",
        "        #print(hidden[-1].unsqueeze(1).size())\n",
        "        context = self.attention(hidden[-1].unsqueeze(1), encoder_hiddens, encoder_hiddens, src_mask)\n",
        "        if i == 0:\n",
        "            embed_input = self.input_hidden(inputs[:,i,:].unsqueeze(1))\n",
        "            lstm_input = torch.cat([context, self.drop_layer(embed_input)], dim = -1)\n",
        "            #print('hidden size')\n",
        "            #print(hidden[0].size())\n",
        "            output, (hidden, cell) = self.lstm(lstm_input, (hidden, hidden))\n",
        "            \n",
        "        else:\n",
        "            feed_target = True if random.random() < self.feed_ratio else False\n",
        "            if feed_target:\n",
        "                embed_input = self.input_hidden(inputs[:,i,:].unsqueeze(1))\n",
        "            else:\n",
        "                embed_input = output\n",
        "            \n",
        "            lstm_input = torch.cat([context, self.drop_layer(embed_input)], dim = -1)\n",
        "            #print('hidden size')\n",
        "            #print(hidden.size())\n",
        "            output, (hidden, cell) = self.lstm(lstm_input, (hidden, hidden))\n",
        "            \n",
        "        \n",
        "        result1 = self.output1(output + context)\n",
        "        #result2 = self.output2(torch.cat([output, context, embed_input]), dim = -1)\n",
        "        outputs.append(result1)\n",
        "        #outputs.append(result2)\n",
        "    \n",
        "    outputs = torch.cat(outputs, dim = 1)\n",
        "    \n",
        "    return hidden, outputs\n",
        "\n",
        "  def init_hidden(self, encoder_finals):\n",
        "    \"\"\"Use encoder final hidden state to initialize decoder's first hidden\n",
        "    state.\"\"\"\n",
        "    #decoder_init_hiddens = None\n",
        "    ### Your code here!\n",
        "    \n",
        "    if encoder_finals != None:\n",
        "        return torch.tanh(encoder_finals)\n",
        "    else:\n",
        "        return None"
      ],
      "execution_count": null,
      "outputs": []
    },
    {
      "cell_type": "markdown",
      "metadata": {
        "id": "DTUXxJWPPQ9W"
      },
      "source": [
        "Similarly, we use a `EncoderAttentionDecoder` class to wrap up all encoder, decoder, src/trg embeddings, and generator. You can take the `EncoderDecoder` class as a reference."
      ]
    },
    {
      "cell_type": "code",
      "metadata": {
        "id": "mghIa6XzubZL"
      },
      "source": [
        "class EncoderAttentionDecoder(nn.Module):\n",
        "  \"\"\"A Encoder-Decoder architecture with attention.\n",
        "  \"\"\"\n",
        "  def __init__(self, encoder, decoder, src_embed , trg_embed, generator):\n",
        "    \"\"\"\n",
        "    Inputs:\n",
        "      - `encoder`: an `Encoder` object.\n",
        "      - `decoder`: an `AttentionDecoder` object.\n",
        "      - `src_embed`: an nn.Embedding object representing the lookup table for\n",
        "          input (source) sentences.\n",
        "      - `trg_embed`: an nn.Embedding object representing the lookup table for\n",
        "          output (target) sentences.\n",
        "      - `generator`: a `Generator` object. Essentially a linear mapping. See\n",
        "          the next code cell.\n",
        "    \"\"\"\n",
        "    super(EncoderAttentionDecoder, self).__init__()\n",
        "\n",
        "    self.encoder = encoder\n",
        "    self.decoder = decoder\n",
        "    self.src_embed = src_embed\n",
        "    self.trg_embed = trg_embed\n",
        "    self.generator = generator\n",
        "\n",
        "  def forward(self, src_ids, trg_ids, src_lengths):\n",
        "    \"\"\"Take in and process masked source and tar get sequences.\n",
        "\n",
        "    Inputs:\n",
        "      `src_ids`: a 2d-tensor of shape (batch_size, max_seq_length) representing\n",
        "        a batch of source sentences of word ids.\n",
        "      `trg_ids`: a 2d-tensor of shape (batch_size, max_seq_length) representing\n",
        "        a batch of target sentences of word ids.\n",
        "      `src_lengths`: a 1d-tensor of shape (batch_size,) representing the\n",
        "        sequence length of `src_ids`.\n",
        "\n",
        "    Returns the decoder outputs, see the above cell.\n",
        "    \"\"\"\n",
        "    ### Your code here!\n",
        "    # You can refer to `EncoderDecoder` and extend from it.\n",
        "    src_mask = (src_ids != 0).unsqueeze(1)\n",
        "    #print(src_ids.size())\n",
        "    #print(src_mask.size())\n",
        "    encoder_output, encoder_finals = self.encode(src_ids, src_lengths)\n",
        "    #print('output')\n",
        "    #print(encoder_output.size())\n",
        "    return self.decode(encoder_finals, encoder_output, trg_ids[:, :-1], src_mask)\n",
        "    \n",
        "  def encode(self, src_ids, src_lengths):\n",
        "    return self.encoder(self.src_embed(src_ids), src_lengths)\n",
        "    \n",
        "  def decode(self, encoder_finals, encoder_hiddens, trg_ids, src_mask, decoder_hidden=None):\n",
        "    #print(trg_ids.size())\n",
        "    #print(src_mask.size())\n",
        "    return self.decoder(self.trg_embed(trg_ids), encoder_hiddens, encoder_finals, src_mask, decoder_hidden)"
      ],
      "execution_count": null,
      "outputs": []
    },
    {
      "cell_type": "markdown",
      "metadata": {
        "id": "9VIpNlKtK8l_"
      },
      "source": [
        "## **Section 5: Training and Testing**\n",
        "\n",
        "We provide training and testing scripts here. You might need to adapt them to fit your model implementation."
      ]
    },
    {
      "cell_type": "markdown",
      "metadata": {
        "id": "I38IFq48BKa5"
      },
      "source": [
        "Apply the dataloader to the MT dataset. Dataloader provides a convenient way to iterate through the whole dataset."
      ]
    },
    {
      "cell_type": "code",
      "metadata": {
        "id": "cJrXO7nCjzBP"
      },
      "source": [
        "batch_size = 128\n",
        "embed_size = 256   # Each word will be represented as a `embed_size`-dim vector.\n",
        "hidden_size = 256  # RNN hidden size.\n",
        "dropout = 0.2\n",
        "num_layers = 2\n",
        "bidirection = True\n",
        "feed_ratio = 0.7\n",
        "learning_rate = 9e-4\n",
        "clipping_value = 1 \n",
        "num_epochs = 12\n",
        "\n",
        "train_set = MTDataset(train_src_sentences_list, src_vocab_set,\n",
        "                      train_trg_sentences_list, trg_vocab_set, sampling=1.)\n",
        "train_data_loader = data.DataLoader(train_set, batch_size=batch_size,\n",
        "                                    num_workers=8, shuffle=True)\n",
        "\n",
        "val_set = MTDataset(val_src_sentences_list, src_vocab_set,\n",
        "                    val_trg_sentences_list, trg_vocab_set, sampling=1.)\n",
        "val_data_loader = data.DataLoader(val_set, batch_size=batch_size, num_workers=8, shuffle=False)"
      ],
      "execution_count": null,
      "outputs": []
    },
    {
      "cell_type": "markdown",
      "metadata": {
        "id": "bWaiu7wNBX7x"
      },
      "source": [
        "The main functions for training, here we use perplexity to evaluate the performance of the model. Although we provide the training scripts here, we strongly encoureage you to go through and understand the procedure."
      ]
    },
    {
      "cell_type": "code",
      "metadata": {
        "id": "AXGa-L1qp13q"
      },
      "source": [
        "import math\n",
        "\n",
        "\n",
        "class SimpleLossCompute:\n",
        "  \"\"\"A simple loss compute and train function.\"\"\"\n",
        "\n",
        "  def __init__(self, generator, criterion, opt=None, c_value = None, model = None):\n",
        "    self.generator = generator\n",
        "    self.criterion = criterion\n",
        "    self.opt = opt\n",
        "    self.clipping_value = c_value\n",
        "    self.model = model\n",
        "\n",
        "  def __call__(self, x, y, norm):\n",
        "    x = self.generator(x)\n",
        "    loss = self.criterion(x.contiguous().view(-1, x.size(-1)),\n",
        "                          y.contiguous().view(-1))\n",
        "    loss = loss / norm\n",
        "\n",
        "    if self.opt is not None:  # training mode\n",
        "      loss.backward()    \n",
        "      ########################## clip\n",
        "      torch.nn.utils.clip_grad_norm(self.model.parameters(), self.clipping_value)\n",
        "      ##########################\n",
        "      self.opt.step()\n",
        "      self.opt.zero_grad()\n",
        "\n",
        "    return loss.data.item() * norm\n",
        "\n",
        "\n",
        "def run_epoch(data_loader, model, loss_compute, print_every):\n",
        "  \"\"\"Standard Training and Logging Function\"\"\"\n",
        "\n",
        "  total_tokens = 0\n",
        "  total_loss = 0\n",
        "\n",
        "  for i, (src_ids_BxT, src_lengths_B, trg_ids_BxL, trg_lengths_B) in enumerate(data_loader):\n",
        "    # We define some notations here to help you understand the loaded tensor\n",
        "    # shapes:\n",
        "    #   `B`: batch size\n",
        "    #   `T`: max sequence length of source sentences\n",
        "    #   `L`: max sequence length of target sentences; due to our preprocessing\n",
        "    #        in the beginning, `L` == `T` == 50\n",
        "    # An example of `src_ids_BxT` (when B = 2):\n",
        "    #   [[2, 4, 6, 7, ..., 4, 3, 0, 0, 0],\n",
        "    #    [2, 8, 6, 5, ..., 9, 5, 4, 3, 0]]\n",
        "    # The corresponding `src_lengths_B` would be [47, 49].\n",
        "    # Note that SOS_INDEX == 2, EOS_INDEX == 3, and PAD_INDEX = 0.\n",
        "\n",
        "    src_ids_BxT = src_ids_BxT.to(device)\n",
        "    src_lengths_B = src_lengths_B.to(device)\n",
        "    trg_ids_BxL = trg_ids_BxL.to(device)\n",
        "    del trg_lengths_B   # unused\n",
        "\n",
        "    _, output = model(src_ids_BxT, trg_ids_BxL, src_lengths_B)\n",
        "\n",
        "    loss = loss_compute(x=output, y=trg_ids_BxL[:, 1:],\n",
        "                        norm=src_ids_BxT.size(0))\n",
        "    total_loss += loss\n",
        "    total_tokens += (trg_ids_BxL[:, 1:] != PAD_INDEX).data.sum().item()\n",
        "\n",
        "    if model.training and i % print_every == 0:\n",
        "      print(\"Epoch Step: %d Loss: %f\" % (i, loss / src_ids_BxT.size(0)))\n",
        "\n",
        "  return math.exp(total_loss / float(total_tokens))\n",
        "\n",
        "\n",
        "def train(model, num_epochs, learning_rate, print_every, clipping_value):\n",
        "  # Set `ignore_index` as PAD_INDEX so that pad tokens won't be included when\n",
        "  # computing the loss.\n",
        "  criterion = nn.NLLLoss(reduction=\"sum\", ignore_index=PAD_INDEX)\n",
        "  optim = torch.optim.Adam(model.parameters(), lr=learning_rate)\n",
        "\n",
        "  # Keep track of dev ppl for each epoch.\n",
        "  dev_ppls = []\n",
        "\n",
        "  for epoch in range(num_epochs):\n",
        "    print(\"Epoch\", epoch)\n",
        "\n",
        "    model.train()\n",
        "    train_ppl = run_epoch(data_loader=train_data_loader, model=model,\n",
        "                          loss_compute=SimpleLossCompute(model.generator,\n",
        "                                                         criterion, optim, clipping_value, model),\n",
        "                          print_every=print_every)\n",
        "        \n",
        "    model.eval()\n",
        "    with torch.no_grad():      \n",
        "      dev_ppl = run_epoch(data_loader=val_data_loader, model=model,\n",
        "                          loss_compute=SimpleLossCompute(model.generator,\n",
        "                                                         criterion, None, None),\n",
        "                          print_every=print_every)\n",
        "      print(\"Validation perplexity: %f\" % dev_ppl)\n",
        "      dev_ppls.append(dev_ppl)\n",
        "        \n",
        "  return dev_ppls"
      ],
      "execution_count": null,
      "outputs": []
    },
    {
      "cell_type": "markdown",
      "metadata": {
        "id": "1A8VvkcICT60"
      },
      "source": [
        "The main function to perform training. First let's train the vanilla seq2seq model."
      ]
    },
    {
      "cell_type": "code",
      "metadata": {
        "id": "pZ0t1hXAIHtO",
        "colab": {
          "base_uri": "https://localhost:8080/",
          "height": 1000
        },
        "outputId": "04b188dd-2036-42a5-b941-d560a6403e12"
      },
      "source": [
        "pure_seq2seq = EncoderDecoder(\n",
        "  encoder=Encoder(embed_size, hidden_size, num_layers, bidirection, dropout),\n",
        "  decoder=Decoder(embed_size, hidden_size, num_layers, feed_ratio, dropout),\n",
        "  src_embed=nn.Embedding(len(src_vocab_set), embed_size),\n",
        "  trg_embed=nn.Embedding(len(trg_vocab_set), embed_size),\n",
        "  generator=Generator(hidden_size, len(trg_vocab_set))).to(device)\n",
        "\n",
        "# Start training. The returned `dev_ppls` is a list of dev perplexity for each\n",
        "# epoch.\n",
        "pure_dev_ppls = train(pure_seq2seq, num_epochs, learning_rate, 100, clipping_value)"
      ],
      "execution_count": null,
      "outputs": [
        {
          "output_type": "stream",
          "text": [
            "Epoch 0\n"
          ],
          "name": "stdout"
        },
        {
          "output_type": "stream",
          "text": [
            "/usr/local/lib/python3.6/dist-packages/ipykernel_launcher.py:23: UserWarning: torch.nn.utils.clip_grad_norm is now deprecated in favor of torch.nn.utils.clip_grad_norm_.\n"
          ],
          "name": "stderr"
        },
        {
          "output_type": "stream",
          "text": [
            "Epoch Step: 0 Loss: 141.728058\n",
            "Epoch Step: 100 Loss: 90.291069\n",
            "Epoch Step: 200 Loss: 84.712387\n",
            "Validation perplexity: 282.241928\n",
            "Epoch 1\n",
            "Epoch Step: 0 Loss: 87.433334\n",
            "Epoch Step: 100 Loss: 81.076218\n",
            "Epoch Step: 200 Loss: 75.921570\n",
            "Validation perplexity: 186.802324\n",
            "Epoch 2\n",
            "Epoch Step: 0 Loss: 76.087349\n",
            "Epoch Step: 100 Loss: 75.104538\n",
            "Epoch Step: 200 Loss: 74.405930\n",
            "Validation perplexity: 118.042619\n",
            "Epoch 3\n",
            "Epoch Step: 0 Loss: 70.049950\n",
            "Epoch Step: 100 Loss: 67.604645\n",
            "Epoch Step: 200 Loss: 68.130005\n",
            "Validation perplexity: 91.846290\n",
            "Epoch 4\n",
            "Epoch Step: 0 Loss: 66.978271\n",
            "Epoch Step: 100 Loss: 64.168861\n",
            "Epoch Step: 200 Loss: 65.635277\n",
            "Validation perplexity: 81.000684\n",
            "Epoch 5\n",
            "Epoch Step: 0 Loss: 62.689007\n",
            "Epoch Step: 100 Loss: 60.329247\n",
            "Epoch Step: 200 Loss: 61.952374\n",
            "Validation perplexity: 74.681580\n",
            "Epoch 6\n",
            "Epoch Step: 0 Loss: 59.026642\n",
            "Epoch Step: 100 Loss: 58.884418\n",
            "Epoch Step: 200 Loss: 59.074776\n",
            "Validation perplexity: 71.951722\n",
            "Epoch 7\n",
            "Epoch Step: 0 Loss: 56.086044\n",
            "Epoch Step: 100 Loss: 60.329174\n",
            "Epoch Step: 200 Loss: 55.705734\n",
            "Validation perplexity: 64.534274\n",
            "Epoch 8\n",
            "Epoch Step: 0 Loss: 55.897297\n",
            "Epoch Step: 100 Loss: 52.662956\n",
            "Epoch Step: 200 Loss: 55.444057\n",
            "Validation perplexity: 65.668637\n",
            "Epoch 9\n",
            "Epoch Step: 0 Loss: 54.860413\n",
            "Epoch Step: 100 Loss: 53.219982\n",
            "Epoch Step: 200 Loss: 51.976231\n",
            "Validation perplexity: 63.792683\n",
            "Epoch 10\n",
            "Epoch Step: 0 Loss: 50.011864\n",
            "Epoch Step: 100 Loss: 52.534897\n",
            "Epoch Step: 200 Loss: 53.057415\n",
            "Validation perplexity: 62.151501\n",
            "Epoch 11\n",
            "Epoch Step: 0 Loss: 48.739555\n",
            "Epoch Step: 100 Loss: 44.575775\n",
            "Epoch Step: 200 Loss: 50.330688\n",
            "Validation perplexity: 62.667145\n"
          ],
          "name": "stdout"
        }
      ]
    },
    {
      "cell_type": "markdown",
      "metadata": {
        "id": "fRsfDg0wCa7U"
      },
      "source": [
        "Plot the perplexity graph."
      ]
    },
    {
      "cell_type": "code",
      "metadata": {
        "id": "CTApnlT53YvT",
        "colab": {
          "base_uri": "https://localhost:8080/",
          "height": 295
        },
        "outputId": "883e8392-16d5-4f9b-e586-e8abcab80698"
      },
      "source": [
        "def plot_perplexity(perplexities):\n",
        "  \"\"\"plot perplexities\"\"\"\n",
        "  plt.title(\"Perplexity per Epoch\")\n",
        "  plt.xlabel(\"Epoch\")\n",
        "  plt.ylabel(\"Perplexity\")\n",
        "  plt.plot(perplexities)\n",
        "\n",
        "plot_perplexity(pure_dev_ppls)"
      ],
      "execution_count": null,
      "outputs": [
        {
          "output_type": "display_data",
          "data": {
            "image/png": "[encoded data removed]",
            "text/plain": [
              "<Figure size 432x288 with 1 Axes>"
            ]
          },
          "metadata": {
            "tags": []
          }
        }
      ]
    },
    {
      "cell_type": "markdown",
      "metadata": {
        "id": "PjhKXDyvIk4l"
      },
      "source": [
        "Now, let's train the seq2seq model with attention."
      ]
    },
    {
      "cell_type": "code",
      "metadata": {
        "id": "onQxDU-aGa0t",
        "colab": {
          "base_uri": "https://localhost:8080/",
          "height": 1000
        },
        "outputId": "1b1b7032-190c-4774-aee5-7fcccfe614bc"
      },
      "source": [
        "attention = BahAttention(hidden_size)\n",
        "attn_seq2seq = EncoderAttentionDecoder(\n",
        "  encoder=Encoder(embed_size, hidden_size, num_layers, bidirection, dropout),\n",
        "  decoder=AttentionDecoder(embed_size, hidden_size, attention, num_layers, feed_ratio, dropout),\n",
        "  src_embed=nn.Embedding(len(src_vocab_set), embed_size),\n",
        "  trg_embed=nn.Embedding(len(trg_vocab_set), embed_size),\n",
        "  generator=Generator(hidden_size, len(trg_vocab_set))).to(device)\n",
        "\n",
        "attn_dev_ppls = train(attn_seq2seq, num_epochs, learning_rate, 100, clipping_value)\n",
        "\n",
        "plot_perplexity(attn_dev_ppls)"
      ],
      "execution_count": null,
      "outputs": [
        {
          "output_type": "stream",
          "text": [
            "Epoch 0\n"
          ],
          "name": "stdout"
        },
        {
          "output_type": "stream",
          "text": [
            "/usr/local/lib/python3.6/dist-packages/ipykernel_launcher.py:23: UserWarning: torch.nn.utils.clip_grad_norm is now deprecated in favor of torch.nn.utils.clip_grad_norm_.\n"
          ],
          "name": "stderr"
        },
        {
          "output_type": "stream",
          "text": [
            "Epoch Step: 0 Loss: 144.999466\n",
            "Epoch Step: 100 Loss: 80.566689\n",
            "Epoch Step: 200 Loss: 71.372269\n",
            "Validation perplexity: 94.265278\n",
            "Epoch 1\n",
            "Epoch Step: 0 Loss: 66.691887\n",
            "Epoch Step: 100 Loss: 61.506195\n",
            "Epoch Step: 200 Loss: 59.452625\n",
            "Validation perplexity: 57.283866\n",
            "Epoch 2\n",
            "Epoch Step: 0 Loss: 57.734486\n",
            "Epoch Step: 100 Loss: 49.604027\n",
            "Epoch Step: 200 Loss: 53.692616\n",
            "Validation perplexity: 45.135871\n",
            "Epoch 3\n",
            "Epoch Step: 0 Loss: 52.629532\n",
            "Epoch Step: 100 Loss: 49.603035\n",
            "Epoch Step: 200 Loss: 47.753555\n",
            "Validation perplexity: 38.771326\n",
            "Epoch 4\n",
            "Epoch Step: 0 Loss: 49.940273\n",
            "Epoch Step: 100 Loss: 44.750519\n",
            "Epoch Step: 200 Loss: 47.932846\n",
            "Validation perplexity: 39.187900\n",
            "Epoch 5\n",
            "Epoch Step: 0 Loss: 42.706295\n",
            "Epoch Step: 100 Loss: 39.681461\n",
            "Epoch Step: 200 Loss: 43.184708\n",
            "Validation perplexity: 38.179853\n",
            "Epoch 6\n",
            "Epoch Step: 0 Loss: 34.690266\n",
            "Epoch Step: 100 Loss: 40.026253\n",
            "Epoch Step: 200 Loss: 40.850811\n",
            "Validation perplexity: 35.485375\n",
            "Epoch 7\n",
            "Epoch Step: 0 Loss: 38.922245\n",
            "Epoch Step: 100 Loss: 39.854961\n",
            "Epoch Step: 200 Loss: 35.237530\n",
            "Validation perplexity: 37.501011\n",
            "Epoch 8\n",
            "Epoch Step: 0 Loss: 40.562759\n",
            "Epoch Step: 100 Loss: 34.768909\n",
            "Epoch Step: 200 Loss: 38.289902\n",
            "Validation perplexity: 37.756003\n",
            "Epoch 9\n",
            "Epoch Step: 0 Loss: 31.795078\n",
            "Epoch Step: 100 Loss: 31.226946\n",
            "Epoch Step: 200 Loss: 36.755009\n",
            "Validation perplexity: 37.571274\n",
            "Epoch 10\n",
            "Epoch Step: 0 Loss: 31.712284\n",
            "Epoch Step: 100 Loss: 33.275276\n",
            "Epoch Step: 200 Loss: 35.276966\n",
            "Validation perplexity: 38.670194\n",
            "Epoch 11\n",
            "Epoch Step: 0 Loss: 29.824112\n",
            "Epoch Step: 100 Loss: 32.404686\n",
            "Epoch Step: 200 Loss: 31.525492\n",
            "Validation perplexity: 40.999578\n"
          ],
          "name": "stdout"
        },
        {
          "output_type": "display_data",
          "data": {
            "image/png": "[encoded data removed]",
            "text/plain": [
              "<Figure size 432x288 with 1 Axes>"
            ]
          },
          "metadata": {
            "tags": []
          }
        }
      ]
    },
    {
      "cell_type": "markdown",
      "metadata": {
        "id": "VMpL-_MwJOws"
      },
      "source": [
        "This is the function used to decode the model output. For simplicity, we use greedy search here."
      ]
    },
    {
      "cell_type": "code",
      "metadata": {
        "id": "M1HTqYwy6-yL",
        "colab": {
          "base_uri": "https://localhost:8080/",
          "height": 295
        },
        "outputId": "d195a6ca-0b9d-4e77-83e9-25b159934744"
      },
      "source": [
        "plt.title(\"Perplexity per Epoch\")\n",
        "plt.xlabel(\"Epoch\")\n",
        "plt.ylabel(\"Perplexity\")\n",
        "plt.plot(pure_dev_ppls, label='pure model')\n",
        "plt.plot(attn_dev_ppls, label='attn model')\n",
        "plt.legend(loc = 'upper right')\n",
        "\n",
        "def greedy_decode(model, src_ids, src_lengths, max_len, pad_index = 0):\n",
        "  \"\"\"Greedily decode a sentence for EncoderDecoder.\"\"\"\n",
        "\n",
        "  with torch.no_grad():\n",
        "    encoder_hiddens, encoder_finals = model.encode(src_ids, src_lengths)\n",
        "    prev_y = torch.ones(1, 1).fill_(SOS_INDEX).type_as(src_ids)\n",
        "\n",
        "  output = []\n",
        "  hidden = None\n",
        "  attn_scores = []\n",
        "\n",
        "  for i in range(max_len):\n",
        "    with torch.no_grad():\n",
        "        if model == pure_seq2seq:\n",
        "            hidden, outputs = model.decode(encoder_finals, prev_y, hidden)\n",
        "        if model == attn_seq2seq:\n",
        "            src_mask = (src_ids != pad_index).unsqueeze(1)\n",
        "            hidden, outputs = model.decode(encoder_finals, encoder_hiddens, prev_y, src_mask, hidden)\n",
        "            attn_score = model.decoder.attention.att_weight.cpu().numpy()\n",
        "            attn_scores.append(attn_score)\n",
        "            \n",
        "        prob = model.generator(outputs[:, -1])\n",
        "\n",
        "    _, next_word = torch.max(prob, dim=1)\n",
        "    next_word = next_word.data.item()\n",
        "    output.append(next_word)\n",
        "    prev_y = torch.ones(1, 1).type_as(src_ids).fill_(next_word)\n",
        "\n",
        "  output = np.array(output)\n",
        "  attn_scores = np.array(attn_scores)\n",
        "\n",
        "  # Cut off everything starting from </s>.\n",
        "  first_eos = np.where(output == EOS_INDEX)[0]\n",
        "  if len(first_eos) > 0:\n",
        "    output = output[:first_eos[0]]\n",
        "\n",
        "  #print(np.array(attn_scores))\n",
        "  return output, attn_scores.reshape(max_len, -1)\n",
        "  \n",
        "\n",
        "def lookup_words(x, vocab):\n",
        "  return [vocab[i] for i in x]"
      ],
      "execution_count": null,
      "outputs": [
        {
          "output_type": "display_data",
          "data": {
            "image/png": "[encoded data removed]",
            "text/plain": [
              "<Figure size 432x288 with 1 Axes>"
            ]
          },
          "metadata": {
            "tags": []
          }
        }
      ]
    },
    {
      "cell_type": "markdown",
      "metadata": {
        "id": "d_5go3VxJZKh"
      },
      "source": [
        "Print the top 3 examples from the data loader by applying the greedy decoder."
      ]
    },
    {
      "cell_type": "code",
      "metadata": {
        "id": "cc3m4optFrb3"
      },
      "source": [
        "def print_examples(model, data_loader, n=5,\n",
        "                   max_len=MAX_SENT_LENGTH_PLUS_SOS_EOS, \n",
        "                   src_vocab_set=src_vocab_set, trg_vocab_set=trg_vocab_set):\n",
        "  \"\"\"Prints `n` examples. Assumes batch size of 1.\"\"\"\n",
        "\n",
        "  model.eval()\n",
        "\n",
        "  preds = []\n",
        "  weights = []\n",
        "\n",
        "  for i, (src_ids, src_lengths, trg_ids, _) in enumerate(data_loader):\n",
        "    pred, attn_scores = greedy_decode(model, src_ids.to(device), src_lengths.to(device),\n",
        "                           max_len=max_len)\n",
        "    \n",
        "    #preds.append(result)\n",
        "    #weights.append(attn_scores)\n",
        "\n",
        "    # remove <s>\n",
        "    src_ids = src_ids[0, 1:]\n",
        "    trg_ids = trg_ids[0, 1:]\n",
        "\n",
        "    # remove </s> and <pad>\n",
        "    src_ids = src_ids[:np.where(src_ids == EOS_INDEX)[0][0]]\n",
        "    trg_ids = trg_ids[:np.where(trg_ids == EOS_INDEX)[0][0]]\n",
        "\n",
        "    src_w = lookup_words(src_ids, src_vocab_set)\n",
        "    #trg_w = lookup_words(trg_ids, trg_vocab_set)\n",
        "    pred_w = lookup_words(pred, trg_vocab_set)\n",
        "\n",
        "    print(\"Example #%d\" % (i + 1))\n",
        "    print(\"Src : \", \" \".join(lookup_words(src_ids, vocab=src_vocab_set)))\n",
        "    print(\"Trg : \", \" \".join(lookup_words(trg_ids, vocab=trg_vocab_set)))\n",
        "    print(\"Pred: \", \" \".join(lookup_words(pred, vocab=trg_vocab_set)))\n",
        "    #print()\n",
        "\n",
        "    if i == n - 1:\n",
        "      break\n",
        "    \n",
        "  return attn_scores, src_w, pred_w\n",
        "  "
      ],
      "execution_count": null,
      "outputs": []
    },
    {
      "cell_type": "markdown",
      "metadata": {
        "id": "l7Hi4X0GJouK"
      },
      "source": [
        "Here we use the validation dataset to print examples."
      ]
    },
    {
      "cell_type": "code",
      "metadata": {
        "id": "27thJIfreCgB",
        "colab": {
          "base_uri": "https://localhost:8080/",
          "height": 1000
        },
        "outputId": "91c9cda3-48ed-4627-acf5-ac130e256771"
      },
      "source": [
        "example_set = MTDataset(val_src_sentences_list, src_vocab_set,\n",
        "                        val_trg_sentences_list, trg_vocab_set)\n",
        "example_data_loader = data.DataLoader(val_set, batch_size=1, num_workers=1,\n",
        "                                      shuffle=False)\n",
        "\n",
        "attn_score, src_w, pred_w = print_examples(attn_seq2seq, example_data_loader, 13, max_sent_length_define)\n",
        "\n",
        "def attnmap(src, pred, scores):\n",
        "\n",
        "    fig, ax = plt.subplots()\n",
        "    att_map = ax.pcolor(scores, cmap='viridis')\n",
        "\n",
        "    ax.set_xticklabels(pred, minor=False, rotation='vertical')\n",
        "    ax.set_yticklabels(src, minor=False)\n",
        "\n",
        "    ax.xaxis.tick_top()\n",
        "    ax.set_xticks(np.arange(scores.shape[1]) + 0.5, minor=False)\n",
        "    ax.set_yticks(np.arange(scores.shape[0]) + 0.5, minor=False)\n",
        "    ax.invert_yaxis()\n",
        "\n",
        "    plt.colorbar(att_map)\n",
        "    plt.show()\n",
        "\n",
        "attnmap(src_w, pred_w, attn_score[:len(src_w), :len(pred_w)])"
      ],
      "execution_count": null,
      "outputs": [
        {
          "output_type": "stream",
          "text": [
            "Example #1\n",
            "Src :  Cả hai đều là một nhánh của cùng một lĩnh vực trong ngành khoa học khí quyển .\n",
            "Trg :  They are both two branches of the same field of atmospheric science .\n",
            "Pred:  The both is the same of the final challenge in the science science .\n",
            "Example #2\n",
            "Src :  Nghiên cứu được viết bởi <unk> nhà khoa học từ 40 quốc gia khác nhau .\n",
            "Trg :  That report was written by <unk> scientists from 40 countries .\n",
            "Pred:  So studies studies writing by biologists from <unk> countries .\n",
            "Example #3\n",
            "Src :  Mỗi năm , hơn 15,000 nhà khoa học đến San Francisco để tham dự hội nghị này .\n",
            "Trg :  Over 15,000 scientists go to San Francisco every year for that .\n",
            "Pred:  Every year , 23 trillion dollars came to San bookstore .\n",
            "Example #4\n",
            "Src :  Đó là một lượng khí thải khổng lồ , bằng tổng trọng lượng của <unk> .\n",
            "Trg :  It &apos;s a huge amount of stuff . It &apos;s equal to the weight of methane .\n",
            "Pred:  It &apos;s a huge volume of Spain , by the <unk> of the <unk> .\n",
            "Example #5\n",
            "Src :  Chính vì lượng khí thải rất lớn , nó có ý nghĩa quan trọng với hệ thống khí quyển .\n",
            "Trg :  And because it &apos;s so much stuff , it &apos;s really important for the atmospheric system .\n",
            "Pred:  It &apos;s because the vast vast vast , it &apos;s important to the <unk> system .\n",
            "Example #6\n",
            "Src :  Chúng tôi chạy những mô hình khổng lồ trên siêu máy tính ; đây là công việc của tôi .\n",
            "Trg :  We run enormous models on <unk> ; this is what I happen to do .\n",
            "Pred:  We run these satellite expressions on this computers ; this is my job job .\n",
            "Example #7\n",
            "Src :  Chúng tôi cần làm hàng tá phép tính như thế để hiểu được những gì đang xảy ra .\n",
            "Trg :  And we perform dozens of <unk> in order to understand what &apos;s happening .\n",
            "Pred:  We need to make a dozen level to get lengths to understand what &apos;s going to be happening .\n",
            "Example #8\n",
            "Src :  Chúng tôi còn bay khắp thế giới để tìm phân tử này .\n",
            "Trg :  We also fly all over the world looking for this thing .\n",
            "Pred:  We can still go over the world to find this .\n",
            "Example #9\n",
            "Src :  Gần đây tôi tham gia một cuộc khảo sát thực địa ở Malaysia . Còn nhiều chuyến khác nữa .\n",
            "Trg :  I recently joined a field campaign in Malaysia . There are others .\n",
            "Pred:  Recently recently I &apos;m in a real <unk> crisis . There &apos;s many many other .\n",
            "Example #10\n",
            "Src :  Đây chính là cái tháp giữa rừng sâu , nhìn từ trên cao .\n",
            "Trg :  This is the tower in the middle of the rainforest , from above .\n",
            "Pred:  This is the <unk> between the mirror , at the top .\n",
            "Example #11\n",
            "Src :  Có giai đoạn chúng tôi còn mang cả máy bay theo .\n",
            "Trg :  And on part of that field campaign we even brought an aircraft with us .\n",
            "Pred:  There &apos;s the canopy we brought them up the plane flying .\n",
            "Example #12\n",
            "Src :  Rất có thể bạn đã ở trên một chiếc tương tự khi đến đây hôm nay .\n",
            "Trg :  So maybe you took a similar aircraft to get here today .\n",
            "Pred:  It might be already on a same thing when you can come here today .\n",
            "Example #13\n",
            "Src :  Chúng tôi phải bay với độ nghiêng đặc biệt để thực hiện các phép đo .\n",
            "Trg :  We have to fly at a special <unk> in order to make the measurements .\n",
            "Pred:  We had to fly with a very specific level to do it .\n"
          ],
          "name": "stdout"
        },
        {
          "output_type": "display_data",
          "data": {
            "image/png": "[encoded data removed]",
            "text/plain": [
              "<Figure size 432x288 with 2 Axes>"
            ]
          },
          "metadata": {
            "tags": []
          }
        }
      ]
    },
    {
      "cell_type": "markdown",
      "metadata": {
        "id": "H5pTV5PqJtX4"
      },
      "source": [
        "Compute the BLEU score. BLEU score is a standard measure to evaluate the translation results. For further details, you can refer to [this](https://en.wikipedia.org/wiki/BLEU) link."
      ]
    },
    {
      "cell_type": "code",
      "metadata": {
        "id": "6XGQYwHRPyne",
        "colab": {
          "base_uri": "https://localhost:8080/",
          "height": 84
        },
        "outputId": "05238203-4565-4404-c2a7-b759cdd1ad58"
      },
      "source": [
        "import sacrebleu\n",
        "from tqdm import tqdm\n",
        "\n",
        "\n",
        "def compute_BLEU(model, data_loader):\n",
        "  bleu_score = []\n",
        "\n",
        "  model.eval()\n",
        "  for src_ids, src_lengths, trg_ids, _ in tqdm(data_loader):\n",
        "    result, attn_score = greedy_decode(model, src_ids.to(device), src_lengths.to(device),\n",
        "                           max_len=MAX_SENT_LENGTH_PLUS_SOS_EOS)\n",
        "    # remove <s>\n",
        "    src_ids = src_ids[0, 1:]\n",
        "    trg_ids = trg_ids[0, 1:]\n",
        "    # remove </s> and <pad>\n",
        "    src_ids = src_ids[:np.where(src_ids == EOS_INDEX)[0][0]]\n",
        "    trg_ids = trg_ids[:np.where(trg_ids == EOS_INDEX)[0][0]]\n",
        "\n",
        "    pred = \" \".join(lookup_words(result, vocab=trg_vocab_set))\n",
        "    targ = \" \".join(lookup_words(trg_ids, vocab=trg_vocab_set))\n",
        "\n",
        "    bleu_score.append(sacrebleu.raw_corpus_bleu([pred], [[targ]], .01).score)\n",
        "\n",
        "  return bleu_score\n",
        "\n",
        "\n",
        "test_set = MTDataset(test_src_sentences_list, src_vocab_set,\n",
        "                     test_trg_sentences_list, trg_vocab_set, sampling=1.)\n",
        "test_data_loader = data.DataLoader(test_set, batch_size=1, num_workers=8,\n",
        "                                   shuffle=False)\n",
        "\n",
        "print('BLEU score: %f' % (np.mean(compute_BLEU(pure_seq2seq,\n",
        "                                               test_data_loader))))\n",
        "print('BLEU score: %f' % (np.mean(compute_BLEU(attn_seq2seq,\n",
        "                                               test_data_loader))))"
      ],
      "execution_count": null,
      "outputs": [
        {
          "output_type": "stream",
          "text": [
            "100%|██████████| 250/250 [00:12<00:00, 19.76it/s]\n",
            "  0%|          | 0/250 [00:00<?, ?it/s]"
          ],
          "name": "stderr"
        },
        {
          "output_type": "stream",
          "text": [
            "BLEU score: 4.326025\n"
          ],
          "name": "stdout"
        },
        {
          "output_type": "stream",
          "text": [
            "100%|██████████| 250/250 [00:18<00:00, 13.25it/s]"
          ],
          "name": "stderr"
        },
        {
          "output_type": "stream",
          "text": [
            "BLEU score: 10.174215\n"
          ],
          "name": "stdout"
        },
        {
          "output_type": "stream",
          "text": [
            "\n"
          ],
          "name": "stderr"
        }
      ]
    },
    {
      "cell_type": "markdown",
      "metadata": {
        "id": "GbOgwJw_CkCW"
      },
      "source": [
        "## **Part 3: Lab writeup**\n",
        "\n",
        "Your lab report should discuss any implementation details that were important to filling out the code above. Then, use the code to set up experiments that answer the following questions:\n",
        "\n",
        "1. In this lab we use greedy search for decoding, that is, always taking the most probable word at current timestep as prediction. Describe an alternative decoding method that might work better than greedy search. You don't have to implement it.\n",
        "\n",
        "2. Pick some samples from dev or test set and visualize their attention maps. Discuss your findings. Hint: compute the attention scores on the input words for each timestep during decoding.\n",
        "\n",
        "3. Compare the performance of seq2seq with and without attention on sentences of different lengths. You can set some length intervals (e.g., 1-10, 11-20, 21-30, 31-40, 41-50) and compare the two models' performance within each length interval. Discuss your findings.\n",
        "\n",
        "4. Try to improve your BLEU score. For example, try stacking more RNN layers, switching cell types, or applying bi-direction to encoder. Describe what you try, even if they don't show improvement. Hints:\n",
        "  * TA's preliminary implemtation of seq2seq with attention model achieves around 16. You don't have to surpass it (although it's pretty simple to do so)--this number is just to give you some sense of what a baseline should get.\n",
        "  * Training on the entire training set takes some time. So tune your hyperparameters on a smaller training set (you can do so by changing `sampling` when creating the data loader)."
      ]
    }
  ]
}
