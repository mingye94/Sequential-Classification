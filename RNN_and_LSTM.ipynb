{
  "nbformat": 4,
  "nbformat_minor": 0,
  "metadata": {
    "colab": {
      "name": "Copy of 6864-hw2a.ipynb",
      "provenance": [],
      "collapsed_sections": [],
      "machine_shape": "hm"
    },
    "kernelspec": {
      "name": "python3",
      "display_name": "Python 3"
    },
    "accelerator": "GPU"
  },
  "cells": [
    {
      "cell_type": "code",
      "metadata": {
        "id": "FU7xWiY6TyWS",
        "colab": {
          "base_uri": "https://localhost:8080/",
          "height": 34
        },
        "outputId": "8f02ed34-e141-4511-f1b0-9e64531847df"
      },
      "source": [
        "%%bash\n",
        "!(stat -t /usr/local/lib/*/dist-packages/google/colab > /dev/null 2>&1) && exit \n",
        "rm -rf 6864-hw2\n",
        "git clone https://github.com/lingo-mit/6864-hw2.git"
      ],
      "execution_count": null,
      "outputs": [
        {
          "output_type": "stream",
          "text": [
            "Cloning into '6864-hw2'...\n"
          ],
          "name": "stderr"
        }
      ]
    },
    {
      "cell_type": "code",
      "metadata": {
        "id": "A0MHaHrdUACZ"
      },
      "source": [
        "import sys\n",
        "sys.path.append(\"/content/6864-hw2\")\n",
        "\n",
        "import numpy as np\n",
        "import torch\n",
        "import torch.nn as nn\n",
        "\n",
        "device = \"cuda\" if torch.cuda.is_available() else \"cpu\"\n",
        "assert device == \"cuda\""
      ],
      "execution_count": null,
      "outputs": []
    },
    {
      "cell_type": "markdown",
      "metadata": {
        "id": "EyHSnyLuhOYS"
      },
      "source": [
        "# **Introduction**"
      ]
    },
    {
      "cell_type": "markdown",
      "metadata": {
        "id": "lsSBIE91TvsS"
      },
      "source": [
        "In this lab, you will explore two types of recurrent architectures to perform sequential classification. Specifically, you are asked to implement and train a vanilla RNN (no gate mechanism) and an LSTM for the task of Name Entity Recognition (NER). For details about NER, you can read [this](https://en.wikipedia.org/wiki/Named-entity_recognition) wikipage.\n",
        "\n",
        "To complete this lab, you need to first understand the recurrent update equations introduced in lecture, and transform them into PyTorch code.\n",
        "\n",
        "In NER, your task is to predict the correct name entity of each word in a sentence.\n",
        "We are going to work with a dataset called MIT-Restaurants. We've helped you preprocessed the data. They now look like this:"
      ]
    },
    {
      "cell_type": "code",
      "metadata": {
        "id": "ZKNZ5OI2Cztq",
        "colab": {
          "base_uri": "https://localhost:8080/",
          "height": 134
        },
        "outputId": "c50e1264-2a51-4d62-d5eb-7db3e5691905"
      },
      "source": [
        "def read_file(f_name):\n",
        "    data = []\n",
        "    with open(f_name, 'r') as f:\n",
        "        for line in f:\n",
        "            data.append(line.strip().split())\n",
        "    return data\n",
        "\n",
        "train_data = read_file('/content/6864-hw2/train.dat')\n",
        "train_tags = read_file('/content/6864-hw2/train.tag')\n",
        "\n",
        "test_data = read_file('/content/6864-hw2/test.dat')\n",
        "test_tags = read_file('/content/6864-hw2/test.tag')\n",
        "\n",
        "print('Total amount of training samples: %d' % len(train_data))\n",
        "print('Total amount of testing samples: %d' % len(test_data))\n",
        "print('Average sentence length in training data: %f' % (\n",
        "    np.mean([len(sent) for sent in train_data])))\n",
        "\n",
        "print('\\nExample:')\n",
        "print('The first sentence is: ' + str(train_data[0]))\n",
        "print('Its corresponding name entity sequence is: ' + str(train_tags[0]))"
      ],
      "execution_count": null,
      "outputs": [
        {
          "output_type": "stream",
          "text": [
            "Total amount of training samples: 7660\n",
            "Total amount of testing samples: 1521\n",
            "Average sentence length in training data: 9.206919\n",
            "\n",
            "Example:\n",
            "The first sentence is: ['2', 'start', 'restaurants', 'with', 'inside', 'dining']\n",
            "Its corresponding name entity sequence is: ['B-Rating', 'I-Rating', 'O', 'O', 'B-Amenity', 'I-Amenity']\n"
          ],
          "name": "stdout"
        }
      ]
    },
    {
      "cell_type": "markdown",
      "metadata": {
        "id": "Qk6wCHKWTtmC"
      },
      "source": [
        "Here are some helper functions and more data preprocessing before we move on to implementing our models. No code to write in this section but please do understand it as some variables defined here will be used later for training and evaluation. "
      ]
    },
    {
      "cell_type": "code",
      "metadata": {
        "id": "w_RRJxRJmOGv",
        "colab": {
          "base_uri": "https://localhost:8080/",
          "height": 67
        },
        "outputId": "89fa77f4-4cb0-43ea-fc24-2c8f78a37a52"
      },
      "source": [
        "# From train data, collect all unique word types as a set and add 'UNK' to it.\n",
        "# Unseen words in test data will be turned into 'UNK'.\n",
        "vocab_set = list(set([word for sent in train_data for word in sent])) + ['UNK']\n",
        "num_vocabs = len(vocab_set)\n",
        "print(\"Number of word types, including 'UNK': %d\" % num_vocabs)\n",
        "\n",
        "# Assign each word type an unique id.\n",
        "vocab2id = {v : i for i, v in enumerate(vocab_set)}\n",
        "\n",
        "\n",
        "# We also collect all tag (class) types and assign an unique id to each of them.\n",
        "# There won't be unseen tag type in test data.\n",
        "tag_set = list(set([tag for tag_seq in train_tags for tag in tag_seq]))\n",
        "num_tags = len(tag_set)\n",
        "print(\"Number of tag types: %d\" % num_tags)\n",
        "print('These are the tag types: ' + str(tag_set))\n",
        "\n",
        "tag2id = {t : i for i, t in enumerate(tag_set)}\n",
        "# Inverse dictionary of tag2id, you will need this during evaluation!\n",
        "id2tag = {i : t for t, i in tag2id.items()}"
      ],
      "execution_count": null,
      "outputs": [
        {
          "output_type": "stream",
          "text": [
            "Number of word types, including 'UNK': 3805\n",
            "Number of tag types: 17\n",
            "These are the tag types: ['I-Cuisine', 'I-Hours', 'B-Cuisine', 'I-Location', 'B-Amenity', 'B-Dish', 'B-Hours', 'B-Price', 'I-Restaurant_Name', 'I-Rating', 'I-Dish', 'B-Location', 'B-Restaurant_Name', 'I-Amenity', 'B-Rating', 'O', 'I-Price']\n"
          ],
          "name": "stdout"
        }
      ]
    },
    {
      "cell_type": "markdown",
      "metadata": {
        "id": "Co90EmqjxABh"
      },
      "source": [
        "Now that you have understood what raw data look like, it's your turn to transform them into the format that our model actually takes as input: one-hot encoding. Hint: in tag_to_id function, the B-I-O refers to beginning, inside and outside. Each of them means the beginning of the tagging chunk, inside the tagging chunk and outside the tagging chunk. For more detailed explanation, please refer to the IOB2 format in [this](https://en.wikipedia.org/wiki/Inside%E2%80%93outside%E2%80%93beginning_(tagging)) wikipage."
      ]
    },
    {
      "cell_type": "code",
      "metadata": {
        "id": "1kPRWdKkwdnf",
        "colab": {
          "base_uri": "https://localhost:8080/",
          "height": 84
        },
        "outputId": "56c5626c-0c4d-4139-fda6-18b1639eb317"
      },
      "source": [
        "def one_hot_encoding(sent, vocab2id):\n",
        "    # Example input `sent` (a list of words):\n",
        "    # ['2', 'start', 'restaurants', 'with', 'inside', 'dining']\n",
        "    one_hot = torch.zeros(len(sent), len(vocab2id))\n",
        "    # Your code here!\n",
        "    for i in range(len(sent)):\n",
        "        if sent[i] not in vocab2id:\n",
        "            one_hot[i][vocab2id['UNK']] = 1\n",
        "        else:\n",
        "            one_hot[i][vocab2id[sent[i]]] = 1\n",
        "        \n",
        "    return one_hot\n",
        "\n",
        "\n",
        "def tag_to_id(tag_seq, tag2id):\n",
        "    # Example input `tag_seq` (a list of tags):\n",
        "    # ['B-Rating', 'I-Rating', 'O', 'O', 'B-Amenity', 'I-Amenity']\n",
        "\n",
        "    id_seq = torch.zeros(len(tag_seq), dtype=torch.long)\n",
        "    # Your code here!\n",
        "    for i in range(len(tag_seq)):\n",
        "        id_seq[i] = tag2id[tag_seq[i]]\n",
        "    return id_seq\n",
        "\n",
        "\n",
        "# Apply one-hot encoding to data.\n",
        "train_data_oh_list = [one_hot_encoding(sent, vocab2id) for sent in train_data]\n",
        "# Transform tag names into ids.\n",
        "train_tags_id_list = [tag_to_id(tag_seq, tag2id) for tag_seq in train_tags]\n",
        "\n",
        "# train_data_oh_list should now be a list of 2d-tensors, each has shape (sent_len, num_vocabs)\n",
        "# Note that to utilize the `shape` attribute, each element in the list should\n",
        "# already be a torch tensor.\n",
        "print(\"First sentence has shape: %s\" % str(train_data_oh_list[0].shape))\n",
        "print(\"Fifth sentence has shape: %s\" % str(train_data_oh_list[4].shape))\n",
        "# train_tags_id_list is a list of 1d-tensors, each that has shape (sent_len,)\n",
        "print(\"first tag sequence has shape: %s\" % train_tags_id_list[0].shape)\n",
        "print(\"Fifth tag sequence has shape: %s\" % train_tags_id_list[4].shape)\n",
        "\n",
        "\n",
        "# Apply same conversion to test dataset.\n",
        "test_data_oh_list = [one_hot_encoding(sent, vocab2id) for sent in test_data]\n",
        "test_tags_id_list = [tag_to_id(tag_seq, tag2id) for tag_seq in test_tags]"
      ],
      "execution_count": null,
      "outputs": [
        {
          "output_type": "stream",
          "text": [
            "First sentence has shape: torch.Size([6, 3805])\n",
            "Fifth sentence has shape: torch.Size([12, 3805])\n",
            "first tag sequence has shape: 6\n",
            "Fifth tag sequence has shape: 12\n"
          ],
          "name": "stdout"
        }
      ]
    },
    {
      "cell_type": "markdown",
      "metadata": {
        "id": "64AfhgX35gL3"
      },
      "source": [
        "# **Part 1: Recurrent Neural Network (RNN)**\n",
        "\n",
        "In this part, you will implement a vanilla RNN. You are not allowed to use the PyTorch built-in RNN/RNNCell modules--you will have to implement the update rules yourself. Please follow the formulation introduced in lecture."
      ]
    },
    {
      "cell_type": "code",
      "metadata": {
        "id": "l7j9a_UYLfTl"
      },
      "source": [
        "class RNN(nn.Module):\n",
        "    # A torch module implementing an RNN. The `forward` function should just\n",
        "    # perform one step of update and output logits before softmax.\n",
        "\n",
        "    def __init__(self, input_size, hidden_size, output_size):\n",
        "        super(RNN, self).__init__()\n",
        "        # `input_size`, `hidden_size`, and `output_size` are all int.\n",
        "\n",
        "        self.input_size = input_size\n",
        "        self.hidden_size = hidden_size\n",
        "        self.output_size = output_size\n",
        "\n",
        "        # Your code here!\n",
        "        self.W_hidden = nn.Linear(input_size + hidden_size, hidden_size)\n",
        "        self.W_output = nn.Linear(hidden_size, output_size)\n",
        "        self.act_fn = nn.Tanh()\n",
        "        self.output_fn = nn.LogSoftmax(dim = 1)\n",
        "        \n",
        "    def forward(self, input, hidden):\n",
        "        # `input` is a 2d-tensor of shape (1, input_size); `hidden` is another\n",
        "        # 2d-tensor of shape (1, hidden_size), representing the hidden state of\n",
        "        # the previous time step.\n",
        "\n",
        "        #output = torch.zeros(1, self.output_size).cuda()\n",
        "        # Your code here!\n",
        "        #print(input.size())\n",
        "        #print(hidden.size())\n",
        "        combine = torch.cat((input, hidden), 1)\n",
        "        hidden = self.act_fn(self.W_hidden(combine))\n",
        "        output = self.W_output(hidden)\n",
        "        output = self.output_fn(output)\n",
        "        return output, hidden\n",
        "\n",
        "    def initHidden(self):\n",
        "        # Use to initialize hidden state everytime before running a sentence.\n",
        "        return torch.zeros(1, self.hidden_size)"
      ],
      "execution_count": null,
      "outputs": []
    },
    {
      "cell_type": "markdown",
      "metadata": {
        "id": "9O9r0TTw9A7Y"
      },
      "source": [
        "Now that you have defined your RNN model, we can start training it. We've provided the main training loop, but you will have to implement the fucntion `rnn_train_one_sample`, which takes a (sentence-tensor, tag-tensor)-pair as input and does one step of gradient update. To understand better what this function is supposed to do, you can go over the main training loop in the next section first."
      ]
    },
    {
      "cell_type": "code",
      "metadata": {
        "id": "HF0KIrIIkp9u",
        "colab": {
          "base_uri": "https://localhost:8080/",
          "height": 34
        },
        "outputId": "65081344-cdef-47b3-b914-20ccc5339b54"
      },
      "source": [
        "learning_rate = 5e-3\n",
        "rnn_hidden_size = 128\n",
        "\n",
        "rnn_model = RNN(input_size=num_vocabs, hidden_size=rnn_hidden_size,\n",
        "                output_size=num_tags).to(device)\n",
        "#rnn_model = RNN(input_size=num_vocabs, hidden_size=rnn_hidden_size,\n",
        "                #output_size=num_tags)\n",
        "\n",
        "print(sum(p.numel() for p in rnn_model.parameters() if p.requires_grad))\n",
        "\n",
        "#criterion = nn.CrossEntropyLoss()\n",
        "criterion = nn.NLLLoss()\n",
        "rnn_optimizer = torch.optim.Adam(rnn_model.parameters(), lr=learning_rate)\n",
        "\n",
        "\n",
        "def rnn_train_one_sample(model, sent_tensor, tag_tensor, clipping_value):\n",
        "    # Run through a sentence, generate output, compute loss, and perform one\n",
        "    # gradient update. Sentence and tag are represented as a 2d-tensor\n",
        "    # `sent_tensor` and a 1d-tensor `tag_tensor`, respectively.\n",
        "\n",
        "    # Initialize hidden state.\n",
        "    hidden = model.initHidden().to(device)\n",
        "    #hidden = model.initHidden()\n",
        "    # Your code here!\n",
        "    size_sent = list(sent_tensor.size())\n",
        "    outputs = torch.zeros(list(tag_tensor.size())[0], model.output_size).cuda()\n",
        "    \n",
        "    for i in range(size_sent[0]):\n",
        "        output, hidden = model(sent_tensor[i,:].view(1,size_sent[1]), hidden)\n",
        "        #print(output)\n",
        "        #outputs[i] = torch.argmax(output, dim = 1)\n",
        "        outputs[i,:] = output\n",
        "        \n",
        "    #print(sent_tensor.size())\n",
        "    #outputs = outputs.view(1,size_sent[0])\n",
        "    #tag_tensor = tag_tensor.view(1,size_sent[0])\n",
        "    #print(outputs)\n",
        "    #print(tag_tensor)\n",
        "    #print(outputs.is_cuda)\n",
        "    loss = criterion(outputs, tag_tensor)\n",
        "\n",
        "    rnn_optimizer.zero_grad()\n",
        "    loss.backward()\n",
        "    \n",
        "    #------------------------gradient clipping\n",
        "    #clipping_value = 5\n",
        "    torch.nn.utils.clip_grad_norm(model.parameters(), clipping_value)\n",
        "    #------------------------end\n",
        "    \n",
        "    rnn_optimizer.step()\n",
        "\n",
        "    #print(outputs.is_cuda)\n",
        "    return outputs, loss.item()"
      ],
      "execution_count": null,
      "outputs": [
        {
          "output_type": "stream",
          "text": [
            "505745\n"
          ],
          "name": "stdout"
        }
      ]
    },
    {
      "cell_type": "markdown",
      "metadata": {
        "id": "D8o1dpsnBymS"
      },
      "source": [
        "Here's the main training loop for training RNN:"
      ]
    },
    {
      "cell_type": "code",
      "metadata": {
        "id": "1OuwfUHyrWzC",
        "colab": {
          "base_uri": "https://localhost:8080/",
          "height": 706
        },
        "outputId": "d384cf78-ed2d-4acf-923e-d58db54b2bdc"
      },
      "source": [
        "import time\n",
        "import math\n",
        "\n",
        "n_epochs = 5\n",
        "#iter_count = 0\n",
        "print_every = 1000\n",
        "plot_every = 50\n",
        "\n",
        "# Keep track of losses for plotting\n",
        "#current_loss = 0\n",
        "#total_norm = 0\n",
        "#all_losses = []\n",
        "#all_norm = []\n",
        "clip_list = []\n",
        "loss_list = []\n",
        "\n",
        "def timeSince(since):\n",
        "    now = time.time()\n",
        "    s = now - since\n",
        "    m = math.floor(s / 60)\n",
        "    s -= m * 60\n",
        "    return '%dm %ds' % (m, s)\n",
        "\n",
        "start = time.time()\n",
        "#c_value = [0.01, 0.1, 0.5, 1, 3, 5]\n",
        "c_value = [300]\n",
        "\n",
        "rnn_model.train()\n",
        "for c in c_value:\n",
        "    print('clipping value is: ' + str(c))\n",
        "    iter_count = 0\n",
        "    current_loss = 0\n",
        "    total_norm = 0\n",
        "    all_losses = []\n",
        "    all_norm = []\n",
        "    for epoch_i in range(n_epochs):\n",
        "        for sent_tensor, tag_tensor in zip(train_data_oh_list, train_tags_id_list):\n",
        "            sent_tensor = sent_tensor.to(device)\n",
        "            tag_tensor = tag_tensor.to(device)\n",
        "  \n",
        "            output, loss = rnn_train_one_sample(rnn_model, sent_tensor, tag_tensor, c)\n",
        "            current_loss += loss\n",
        "            current_norm = 0\n",
        "            for p in rnn_model.parameters():\n",
        "                param_norm = p.grad.data.norm(2)\n",
        "                #print(param_norm)\n",
        "                current_norm += param_norm.item() ** 2\n",
        "            total_norm += current_norm ** (1. / 2)\n",
        "        \n",
        "            if iter_count % print_every == 0:\n",
        "                print('%d %s %.4f' % (iter_count, timeSince(start), loss))\n",
        "\n",
        "            # Add current loss avg to list of losses\n",
        "            if iter_count % plot_every == 0 and iter_count > 0:\n",
        "                all_losses.append(current_loss / plot_every)\n",
        "                all_norm.append(total_norm / plot_every)\n",
        "                current_loss = 0\n",
        "                total_norm = 0\n",
        "\n",
        "            iter_count += 1\n",
        "            \n",
        "    clip_list.append(all_norm)\n",
        "    loss_list.append(all_losses)"
      ],
      "execution_count": null,
      "outputs": [
        {
          "output_type": "stream",
          "text": [
            "clipping value is: 300\n"
          ],
          "name": "stdout"
        },
        {
          "output_type": "stream",
          "text": [
            "/usr/local/lib/python3.6/dist-packages/ipykernel_launcher.py:47: UserWarning: torch.nn.utils.clip_grad_norm is now deprecated in favor of torch.nn.utils.clip_grad_norm_.\n"
          ],
          "name": "stderr"
        },
        {
          "output_type": "stream",
          "text": [
            "0 0m 0s 2.8116\n",
            "1000 0m 6s 3.0687\n",
            "2000 0m 12s 1.4757\n",
            "3000 0m 18s 2.6660\n",
            "4000 0m 24s 1.5673\n",
            "5000 0m 31s 1.0241\n",
            "6000 0m 36s 0.8008\n",
            "7000 0m 42s 1.2352\n",
            "8000 0m 47s 1.0226\n",
            "9000 0m 53s 1.2672\n",
            "10000 0m 59s 0.3435\n",
            "11000 1m 5s 0.8741\n",
            "12000 1m 11s 0.0863\n",
            "13000 1m 17s 0.2627\n",
            "14000 1m 22s 0.1335\n",
            "15000 1m 28s 0.6835\n",
            "16000 1m 33s 0.7426\n",
            "17000 1m 39s 0.0448\n",
            "18000 1m 45s 0.2454\n",
            "19000 1m 51s 0.1130\n",
            "20000 1m 57s 1.4863\n",
            "21000 2m 3s 0.2889\n",
            "22000 2m 8s 0.9355\n",
            "23000 2m 13s 0.4901\n",
            "24000 2m 20s 0.0292\n",
            "25000 2m 25s 0.2987\n",
            "26000 2m 31s 1.3324\n",
            "27000 2m 37s 0.8578\n",
            "28000 2m 42s 0.0160\n",
            "29000 2m 48s 1.8961\n",
            "30000 2m 53s 0.1442\n",
            "31000 2m 59s 0.1545\n",
            "32000 3m 5s 0.0275\n",
            "33000 3m 10s 0.0921\n",
            "34000 3m 16s 0.6507\n",
            "35000 3m 22s 0.1673\n",
            "36000 3m 28s 1.2208\n",
            "37000 3m 33s 0.3039\n",
            "38000 3m 39s 0.3354\n"
          ],
          "name": "stdout"
        }
      ]
    },
    {
      "cell_type": "markdown",
      "metadata": {
        "id": "bzGil8wxCS8X"
      },
      "source": [
        "Now let's plot the learning curve. The x-axis is the training iterations and the y-axis is the training loss. The loss should be going down."
      ]
    },
    {
      "cell_type": "code",
      "metadata": {
        "id": "UY0oyFUeLuEu",
        "colab": {
          "base_uri": "https://localhost:8080/",
          "height": 791
        },
        "outputId": "3557405a-b788-42a1-d803-a7a977412619"
      },
      "source": [
        "import matplotlib.pyplot as plt\n",
        "import matplotlib.ticker as ticker\n",
        "\n",
        "#print(loss_list)\n",
        "\n",
        "plt.figure()\n",
        "for l in range(len(loss_list)):\n",
        "    plt.plot(loss_list[l], label = 'clipping value = ' + str(c_value[l]))\n",
        "\n",
        "plt.legend(loc = 'best')\n",
        "\n",
        "plt.figure()\n",
        "for l in range(len(clip_list)):\n",
        "    plt.plot(clip_list[l], label = 'clipping value = ' + str(c_value[l]))\n",
        "\n",
        "plt.legend(loc = 'best')\n",
        "\n",
        "#plt.figure()\n",
        "#clip_value = [0.1, 0.5, 2, 5, 10, 20, 50, 70 ,100]\n",
        "#precision = [0.674, 0.689, 0.701, 0.703, 0.722, 0.725, 0.696, 0.660, 0.637]\n",
        "#plt.plot(clip_value, precision)\n",
        "#plt.title(\"Precision versus clipping value\")\n",
        "#plt.xlabel(\"Clipping value\")\n",
        "#plt.ylabel(\"Precision\")\n",
        "\n",
        "plt.figure()\n",
        "learning_rate = [1e-3, 2e-3, 3e-3, 4e-3, 4.5e-3, 5e-3]\n",
        "precision1 = [0.751, 0.728, 0.665, 0.619, 0.593, 0.578]\n",
        "plt.plot(learning_rate, precision1)\n",
        "plt.title(\"Precision versus learning rate\")\n",
        "plt.xlabel(\"Learning rate\")\n",
        "plt.ylabel(\"Precision\")\n",
        "plt.ticklabel_format(axis=\"x\", style=\"sci\", scilimits=(0,0))"
      ],
      "execution_count": null,
      "outputs": [
        {
          "output_type": "display_data",
          "data": {
            "image/png": "[encoded data removed]",
            "text/plain": [
              "<Figure size 432x288 with 1 Axes>"
            ]
          },
          "metadata": {
            "tags": []
          }
        },
        {
          "output_type": "display_data",
          "data": {
            "image/png": "[encoded data removed]",
            "text/plain": [
              "<Figure size 432x288 with 1 Axes>"
            ]
          },
          "metadata": {
            "tags": []
          }
        },
        {
          "output_type": "display_data",
          "data": {
            "image/png": "[encoded data removed]",
            "text/plain": [
              "<Figure size 432x288 with 1 Axes>"
            ]
          },
          "metadata": {
            "tags": []
          }
        }
      ]
    },
    {
      "cell_type": "markdown",
      "metadata": {
        "id": "0Q8Hxy-7C8xB"
      },
      "source": [
        "Now that we have trained our RNN, it's time to evaluate it on the test set."
      ]
    },
    {
      "cell_type": "code",
      "metadata": {
        "id": "X6R9rSlTlLTf",
        "colab": {
          "base_uri": "https://localhost:8080/",
          "height": 34
        },
        "outputId": "4a6a0e5e-1cf1-4648-fc4e-ae5ec4ed7e65"
      },
      "source": [
        "### Evaluation\n",
        "\n",
        "import sklearn\n",
        "from sklearn.metrics import precision_recall_fscore_support\n",
        "\n",
        "\n",
        "def evaluate_result(true_tag_list, predicted_tag_list):\n",
        "    # Example: true_tag_list/predicted_tag_list:\n",
        "    #   [[‘O’, ‘O’, ‘I’, ‘N’, ...]\n",
        "    #    [‘I’, ‘I’, ‘O’, ‘N’, ...]],\n",
        "    # each sublist corresponds to an input sentence.\n",
        "    p_list = []\n",
        "    r_list = []\n",
        "    f1_list = []\n",
        "    for true_tag, predicted_tag in zip(true_tag_list, predicted_tag_list):\n",
        "        p, r, f1, _ = precision_recall_fscore_support(true_tag, predicted_tag,\n",
        "                                                      average='macro',\n",
        "                                                      zero_division=0)\n",
        "        p_list.append(p)\n",
        "        r_list.append(r)\n",
        "        f1_list.append(f1)\n",
        "    return np.mean(p_list), np.mean(r_list), np.mean(f1_list)\n",
        "\n",
        "\n",
        "# Make prediction for one sentence.\n",
        "def rnn_predict_one_sent(model, sent_tensor):\n",
        "    hidden = model.initHidden().to(device)\n",
        "    #hidden = model.initHidden()\n",
        "    predicted_tag_id = torch.zeros(list(sent_tensor.size())[0])\n",
        "    \n",
        "    # Your code here!\n",
        "    for i in range(list(sent_tensor.size())[0]):\n",
        "        output, hidden = model(sent_tensor[i,:].view(1,-1), hidden)\n",
        "        predicted_tag_id[i] = torch.argmax(output, dim = 1)\n",
        "    return predicted_tag_id\n",
        "\n",
        "\n",
        "rnn_model.eval()\n",
        "predicted_tags = []\n",
        "for sent_tensor in test_data_oh_list:\n",
        "    sent_tensor = sent_tensor.to(device)\n",
        "    #print(sent_tensor.size())\n",
        "    predicted_tag_id = rnn_predict_one_sent(rnn_model, sent_tensor)\n",
        "    predicted_tags.append([id2tag[idx] for idx in predicted_tag_id.detach().cpu().numpy()])\n",
        "\n",
        "# Will output precision, recall, and f1 score.\n",
        "evaluate_result(test_tags, predicted_tags)"
      ],
      "execution_count": null,
      "outputs": [
        {
          "output_type": "execute_result",
          "data": {
            "text/plain": [
              "(0.6025323884298438, 0.6145647289548176, 0.6009833915578751)"
            ]
          },
          "metadata": {
            "tags": []
          },
          "execution_count": 11
        }
      ]
    },
    {
      "cell_type": "markdown",
      "metadata": {
        "id": "Y3uM___pcp0j"
      },
      "source": [
        "## **Part 1: Lab writeup**\n",
        "\n",
        "Part 1 of your lab report should discuss any implementation details that were important to filling out the code above. Then, use the code to set up experiments that answer the following questions:\n",
        "\n",
        "1. Compute the gradient norm of all trainable parameters along the training. Plot a figure similar to what we did for training loss (x-axis is training iterations and y-axis is avg. gradient norm value). Describe what you find. Hint: gradient norm is the L2 norm of of the gradient vector.\n",
        "\n",
        "2. Try to do learning with gradient clipping. Why should we use gradient clipping? What is the effect of gradient clipping? Could we use larger learning rate after gradient clipping? Why? Hint: use torch.nn.utils.clip_grad_norm(model.parameters(), clip) after loss.backward(). You can try various clipping range. A good starting point is clip = 5."
      ]
    },
    {
      "cell_type": "markdown",
      "metadata": {
        "id": "EuutnMvlxltt"
      },
      "source": [
        "# **Part 2: Long Short-Term Memory (LSTM)**\n",
        "\n",
        "In part 2, you will implement your own LSTM. Same in part 1, you are not allowed to use PyTorch built-in LSTM/LSTMCell modules. For reference, you can look up the wikipage for the [LSTM architecture](https://en.wikipedia.org/wiki/Long_short-term_memory)."
      ]
    },
    {
      "cell_type": "code",
      "metadata": {
        "id": "LTBM91nqfkA4"
      },
      "source": [
        "class LSTM(nn.Module):\n",
        "    # A torch module implementing an LSTM. The `forward` function should just\n",
        "    # perform one step of update and output logits before softmax.\n",
        "\n",
        "    def __init__(self, input_size, hidden_size, output_size):\n",
        "        super(LSTM, self).__init__()\n",
        "        \n",
        "        self.input_size = input_size\n",
        "        self.hidden_size = hidden_size\n",
        "        self.output_size = output_size\n",
        "\n",
        "        # Your code here!\n",
        "        self.W_gi = nn.Linear(input_size + hidden_size, hidden_size)\n",
        "        self.W_gf = nn.Linear(input_size + hidden_size, hidden_size)\n",
        "        self.W_go = nn.Linear(input_size + hidden_size, hidden_size)\n",
        "        self.W_gc = nn.Linear(input_size + hidden_size, hidden_size)\n",
        "        self.W_output = nn.Linear(hidden_size, output_size)\n",
        "        self.act_fn1 = nn.Sigmoid()\n",
        "        self.act_fn2 = nn.Tanh()\n",
        "        self.act_fn3 = nn.LogSoftmax(dim = 1)\n",
        "\n",
        "    def forward(self, input, hidden, memory):\n",
        "        # `input` is a 2d-tensor of shape (1, input_size);\n",
        "        # `hidden` and `memory` are both 2d-tensors of shape (1, hidden_size),\n",
        "        # representing the hidden and memory states of the previous time step.\n",
        "\n",
        "        # Your code here!\n",
        "        combine = torch.cat((input, hidden), 1)\n",
        "        g_input = self.act_fn1(self.W_gi(combine))\n",
        "        g_forget = self.act_fn1(self.W_gf(combine))\n",
        "        g_output = self.act_fn1(self.W_go(combine))\n",
        "        g_cell = self.act_fn2(self.W_gc(combine))\n",
        "        memory = torch.mul(g_forget, memory) + torch.mul(g_input, g_cell)\n",
        "        hidden = torch.mul(g_output, self.act_fn2(memory))\n",
        "        output = self.act_fn3(self.W_output(hidden))\n",
        "        return output, hidden, memory\n",
        "\n",
        "    def initHidden(self):\n",
        "        # Initialize hidden and memory states.\n",
        "        return (torch.zeros(1, self.hidden_size),\n",
        "                torch.zeros(1, self.hidden_size))"
      ],
      "execution_count": null,
      "outputs": []
    },
    {
      "cell_type": "markdown",
      "metadata": {
        "id": "Ed2Mt5o5hoqh"
      },
      "source": [
        "Same with part 1, we provide the main training loop for training LSTM, but you will need to implement the `lstm_train_one_sample` function, and also apply gradient clipping."
      ]
    },
    {
      "cell_type": "code",
      "metadata": {
        "id": "sNn7sBQffs-4",
        "colab": {
          "base_uri": "https://localhost:8080/",
          "height": 34
        },
        "outputId": "f31a6d82-2427-4e6f-83eb-cf2e5e2045d9"
      },
      "source": [
        "learning_rate = 1e-3\n",
        "lstm_hidden_size = 128\n",
        "#lstm_hidden_size = 33\n",
        "\n",
        "lstm_model = LSTM(input_size=num_vocabs, hidden_size=lstm_hidden_size,\n",
        "                  output_size=num_tags).to(device)\n",
        "#lstm_model = LSTM(input_size=num_vocabs, hidden_size=lstm_hidden_size,\n",
        "                  #output_size=num_tags)\n",
        "\n",
        "print(sum(p.numel() for p in lstm_model.parameters() if p.requires_grad))\n",
        "\n",
        "criterion = nn.NLLLoss()\n",
        "lstm_optimizer = torch.optim.Adam(lstm_model.parameters(),  lr=learning_rate)\n",
        "\n",
        "\n",
        "def lstm_train_one_sample(model, sent_tensor, tag_tensor):\n",
        "    hidden, memory = model.initHidden()\n",
        "    hidden = hidden.to(device)\n",
        "    memory = memory.to(device)\n",
        "    # Your code here!\n",
        "    \n",
        "    size_sent = list(sent_tensor.size())\n",
        "    outputs = torch.zeros(list(tag_tensor.size())[0], model.output_size).cuda()\n",
        "    \n",
        "    for i in range(size_sent[0]):\n",
        "        output, hidden, memory = model(sent_tensor[i,:].view(1,size_sent[1]), hidden, memory)\n",
        "        #print(output)\n",
        "        #outputs[i] = torch.argmax(output, dim = 1)\n",
        "        outputs[i,:] = output\n",
        "\n",
        "    loss = criterion(outputs, tag_tensor)\n",
        "\n",
        "    lstm_optimizer.zero_grad()\n",
        "    loss.backward()\n",
        "\n",
        "    # Your Code here!\n",
        "    # ------clipping\n",
        "    clipping_value = 3\n",
        "    torch.nn.utils.clip_grad_norm(model.parameters(), clipping_value)\n",
        "    # ------end\n",
        "    \n",
        "    lstm_optimizer.step()\n",
        "\n",
        "    return outputs, loss.item()"
      ],
      "execution_count": null,
      "outputs": [
        {
          "output_type": "stream",
          "text": [
            "2016401\n"
          ],
          "name": "stdout"
        }
      ]
    },
    {
      "cell_type": "markdown",
      "metadata": {
        "id": "WRN8XcIojx6g"
      },
      "source": [
        "LSTM main training loop:"
      ]
    },
    {
      "cell_type": "code",
      "metadata": {
        "id": "KKzhbwW0q5to",
        "colab": {
          "base_uri": "https://localhost:8080/",
          "height": 689
        },
        "outputId": "f3bfcaf0-4763-4f2f-c73b-81e537e659e0"
      },
      "source": [
        "n_epochs = 5\n",
        "iter_count = 0\n",
        "print_every = 1000\n",
        "plot_every = 50\n",
        "\n",
        "# Keep track of losses for plotting\n",
        "current_loss = 0\n",
        "total_norm = 0\n",
        "\n",
        "all_losses = []\n",
        "all_norm = []\n",
        "\n",
        "start = time.time()\n",
        "\n",
        "lstm_model.train()\n",
        "for epoch_i in range(n_epochs):\n",
        "    for sent_tensor, tag_tensor in zip(train_data_oh_list, train_tags_id_list):\n",
        "        sent_tensor = sent_tensor.to(device)\n",
        "        tag_tensor = tag_tensor.to(device)\n",
        "  \n",
        "        output, loss = lstm_train_one_sample(lstm_model, sent_tensor, tag_tensor)\n",
        "        current_loss += loss\n",
        "        \n",
        "        current_norm = 0\n",
        "        for p in lstm_model.parameters():\n",
        "            param_norm = p.grad.data.norm(2)\n",
        "            current_norm += param_norm.item() ** 2\n",
        "        total_norm += current_norm ** (1. / 2)\n",
        "\n",
        "        if iter_count % print_every == 0:\n",
        "            print('%d %s %.4f' % (iter_count, timeSince(start), loss))\n",
        "\n",
        "        # Add current loss avg to list of losses\n",
        "        if iter_count % plot_every == 0 and iter_count > 0:\n",
        "            all_losses.append(current_loss / plot_every)\n",
        "            all_norm.append(total_norm / plot_every)\n",
        "            current_loss = 0\n",
        "            total_norm = 0\n",
        "\n",
        "        iter_count += 1"
      ],
      "execution_count": null,
      "outputs": [
        {
          "output_type": "stream",
          "text": [
            "0 0m 0s 2.8342\n"
          ],
          "name": "stdout"
        },
        {
          "output_type": "stream",
          "text": [
            "/usr/local/lib/python3.6/dist-packages/ipykernel_launcher.py:39: UserWarning: torch.nn.utils.clip_grad_norm is now deprecated in favor of torch.nn.utils.clip_grad_norm_.\n"
          ],
          "name": "stderr"
        },
        {
          "output_type": "stream",
          "text": [
            "1000 0m 13s 2.6240\n",
            "2000 0m 26s 0.6456\n",
            "3000 0m 39s 2.1387\n",
            "4000 0m 53s 1.4176\n",
            "5000 1m 7s 0.1024\n",
            "6000 1m 20s 0.5269\n",
            "7000 1m 32s 0.5657\n",
            "8000 1m 44s 0.3555\n",
            "9000 1m 59s 0.9628\n",
            "10000 2m 11s 0.2410\n",
            "11000 2m 26s 0.3990\n",
            "12000 2m 40s 0.0234\n",
            "13000 2m 52s 0.0652\n",
            "14000 3m 5s 0.0239\n",
            "15000 3m 17s 1.1972\n",
            "16000 3m 30s 0.1875\n",
            "17000 3m 44s 0.0123\n",
            "18000 3m 57s 0.0360\n",
            "19000 4m 11s 0.0142\n",
            "20000 4m 24s 0.9315\n",
            "21000 4m 37s 0.0605\n",
            "22000 4m 50s 0.1848\n",
            "23000 5m 2s 0.1786\n",
            "24000 5m 16s 0.0059\n",
            "25000 5m 28s 0.0224\n",
            "26000 5m 41s 0.1825\n",
            "27000 5m 55s 0.0086\n",
            "28000 6m 8s 0.0066\n",
            "29000 6m 21s 1.5246\n",
            "30000 6m 34s 0.0351\n",
            "31000 6m 46s 0.0057\n",
            "32000 7m 0s 0.0024\n",
            "33000 7m 12s 0.0527\n",
            "34000 7m 26s 0.0260\n",
            "35000 7m 40s 0.2201\n",
            "36000 7m 53s 0.0358\n",
            "37000 8m 6s 0.1744\n",
            "38000 8m 18s 0.2204\n"
          ],
          "name": "stdout"
        }
      ]
    },
    {
      "cell_type": "code",
      "metadata": {
        "id": "4b_iAmgztI-T",
        "colab": {
          "base_uri": "https://localhost:8080/"
        },
        "outputId": "d7278eaa-ed9b-493e-ced6-c984e281b739"
      },
      "source": [
        "plt.figure()\n",
        "plt.plot(all_losses)\n",
        "plt.figure()\n",
        "plt.plot(all_norm)"
      ],
      "execution_count": null,
      "outputs": [
        {
          "output_type": "execute_result",
          "data": {
            "text/plain": [
              "[<matplotlib.lines.Line2D at 0x7f8120742208>]"
            ]
          },
          "metadata": {
            "tags": []
          },
          "execution_count": 15
        },
        {
          "output_type": "display_data",
          "data": {
            "image/png": "[encoded data removed]",
            "text/plain": [
              "<Figure size 432x288 with 1 Axes>"
            ]
          },
          "metadata": {
            "tags": []
          }
        },
        {
          "output_type": "display_data",
          "data": {
            "image/png": "[encoded data removed]",
            "text/plain": [
              "<Figure size 432x288 with 1 Axes>"
            ]
          },
          "metadata": {
            "tags": []
          }
        }
      ]
    },
    {
      "cell_type": "markdown",
      "metadata": {
        "id": "52ebi-K2k1zq"
      },
      "source": [
        "Now let's evaluate our LSTM model."
      ]
    },
    {
      "cell_type": "code",
      "metadata": {
        "id": "ncDGLjsMluAe",
        "colab": {
          "base_uri": "https://localhost:8080/",
          "height": 34
        },
        "outputId": "309a6cf6-c529-4c5d-e729-cd5a864994b4"
      },
      "source": [
        "def lstm_predict_one_sent(model, sent_tensor):\n",
        "    hidden, memory = model.initHidden()\n",
        "    hidden = hidden.to(device)\n",
        "    memory = memory.to(device)\n",
        "    # Your code here!\n",
        "    predicted_tag_id = torch.zeros(list(sent_tensor.size())[0])\n",
        "    \n",
        "    # Your code here!\n",
        "    for i in range(list(sent_tensor.size())[0]):\n",
        "        output, hidden, memory = model(sent_tensor[i,:].view(1,-1), hidden, memory)\n",
        "        predicted_tag_id[i] = torch.argmax(output, dim = 1)\n",
        "    return predicted_tag_id\n",
        "\n",
        "\n",
        "lstm_model.eval()\n",
        "predicted_tags = []\n",
        "for sent_tensor in test_data_oh_list:\n",
        "    sent_tensor = sent_tensor.to(device)\n",
        "    predicted_tag_id = lstm_predict_one_sent(lstm_model, sent_tensor)\n",
        "    predicted_tags.append([id2tag[idx] for idx in predicted_tag_id.detach().cpu().numpy()])\n",
        "\n",
        "# Will output precision, recall, and f1 score.\n",
        "evaluate_result(test_tags, predicted_tags)\n",
        "\n",
        "# clipping = 2, learning rate = 5e-4"
      ],
      "execution_count": null,
      "outputs": [
        {
          "output_type": "execute_result",
          "data": {
            "text/plain": [
              "(0.75403029152448, 0.7569058644990521, 0.748900451945764)"
            ]
          },
          "metadata": {
            "tags": []
          },
          "execution_count": 16
        }
      ]
    },
    {
      "cell_type": "markdown",
      "metadata": {
        "id": "rHltRZH4gfI2"
      },
      "source": [
        "## **Part 2: Lab writeup**\n",
        "\n",
        "Your lab report should discuss any implementation details that were important to filling out the code above. Then, use the code to set up experiments that answer the following questions:\n",
        "\n",
        "1. Change lstm_hidden_size so that LSTM has approximately the same amount of parameters as RNN. Hint: use sum(p.numel() for p in model.parameters() if p.requires_grad) to find the number of trainable parameters. Re-train the LSTM model and discuss your findings.\n",
        "\n",
        "2. Same in part 1 writeup, plot the gradient norm figure for LSTM. Discuss your findings.\n",
        "\n",
        "3. Currently we update model parameters for each sample (1 sample = 1 iteration). In practice, we usually train with a mini-batch (mB): the entire dataset of N samples is split into N/mB batches, and use one mini-batch for each update. Briefly describe how to do batching in our dataset. Hint: each sentence can have variable length."
      ]
    }
  ]
}
